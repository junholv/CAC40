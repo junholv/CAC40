{
 "cells": [
  {
   "cell_type": "markdown",
   "metadata": {},
   "source": [
    "# <center>  VOUDRIEZ-VOUS <u><FONT color=\"red\">PREDIRE</FONT> LE CAC 40<u> <center>\n",
    "# <center>&<center>    "
   ]
  },
  {
   "cell_type": "code",
   "execution_count": 3,
   "metadata": {},
   "outputs": [
    {
     "data": {
      "text/plain": [
       "<IPython.core.display.HTML object>"
      ]
     },
     "execution_count": 3,
     "metadata": {},
     "output_type": "execute_result"
    }
   ],
   "source": [
    "from IPython.display import HTML, Image, YouTubeVideo, display\n",
    "#Image('https://pbs.twimg.com/profile_images/831186374585880577/aQAqWwjG_400x400.jpg', width=300)\n",
    "#HTML(\"/Users/Administrateur/Documents/ESME3/projet/Cac_40_Project_FinalVersion/PX1 - Recherche Google.html\")\n",
    "HTML(\"https://www.google.com/search?q=px1&oq=px1&aqs=chrome..69i57.1024j0j7&sourceid=chrome&ie=UTF-8\")\n"
   ]
  },
  {
   "cell_type": "code",
   "execution_count": 13,
   "metadata": {},
   "outputs": [
    {
     "data": {
      "text/html": [
       "<div>\n",
       "<style scoped>\n",
       "    .dataframe tbody tr th:only-of-type {\n",
       "        vertical-align: middle;\n",
       "    }\n",
       "\n",
       "    .dataframe tbody tr th {\n",
       "        vertical-align: top;\n",
       "    }\n",
       "\n",
       "    .dataframe thead th {\n",
       "        text-align: right;\n",
       "    }\n",
       "</style>\n",
       "<table border=\"1\" class=\"dataframe\">\n",
       "  <thead>\n",
       "    <tr style=\"text-align: right;\">\n",
       "      <th></th>\n",
       "      <th>Date</th>\n",
       "      <th>^FCHI_Open</th>\n",
       "      <th>^FCHI_High</th>\n",
       "      <th>^FCHI_Low</th>\n",
       "      <th>^FCHI_Close</th>\n",
       "      <th>^FCHI_Volume</th>\n",
       "    </tr>\n",
       "  </thead>\n",
       "  <tbody>\n",
       "    <tr>\n",
       "      <th>0</th>\n",
       "      <td>2017-03-01</td>\n",
       "      <td>4897.479980</td>\n",
       "      <td>4970.640137</td>\n",
       "      <td>4897.479980</td>\n",
       "      <td>4960.830078</td>\n",
       "      <td>120246400</td>\n",
       "    </tr>\n",
       "    <tr>\n",
       "      <th>1</th>\n",
       "      <td>2017-03-02</td>\n",
       "      <td>4965.270020</td>\n",
       "      <td>4972.879883</td>\n",
       "      <td>4955.410156</td>\n",
       "      <td>4963.799805</td>\n",
       "      <td>106837200</td>\n",
       "    </tr>\n",
       "    <tr>\n",
       "      <th>2</th>\n",
       "      <td>2017-03-03</td>\n",
       "      <td>4953.299805</td>\n",
       "      <td>5002.319824</td>\n",
       "      <td>4948.720215</td>\n",
       "      <td>4995.129883</td>\n",
       "      <td>105338700</td>\n",
       "    </tr>\n",
       "    <tr>\n",
       "      <th>3</th>\n",
       "      <td>2017-03-06</td>\n",
       "      <td>4983.959961</td>\n",
       "      <td>4985.240234</td>\n",
       "      <td>4960.259766</td>\n",
       "      <td>4972.189941</td>\n",
       "      <td>90426900</td>\n",
       "    </tr>\n",
       "    <tr>\n",
       "      <th>4</th>\n",
       "      <td>2017-03-07</td>\n",
       "      <td>4974.790039</td>\n",
       "      <td>4974.790039</td>\n",
       "      <td>4941.259766</td>\n",
       "      <td>4955.000000</td>\n",
       "      <td>79830000</td>\n",
       "    </tr>\n",
       "  </tbody>\n",
       "</table>\n",
       "</div>"
      ],
      "text/plain": [
       "         Date   ^FCHI_Open   ^FCHI_High    ^FCHI_Low  ^FCHI_Close  \\\n",
       "0  2017-03-01  4897.479980  4970.640137  4897.479980  4960.830078   \n",
       "1  2017-03-02  4965.270020  4972.879883  4955.410156  4963.799805   \n",
       "2  2017-03-03  4953.299805  5002.319824  4948.720215  4995.129883   \n",
       "3  2017-03-06  4983.959961  4985.240234  4960.259766  4972.189941   \n",
       "4  2017-03-07  4974.790039  4974.790039  4941.259766  4955.000000   \n",
       "\n",
       "   ^FCHI_Volume  \n",
       "0     120246400  \n",
       "1     106837200  \n",
       "2     105338700  \n",
       "3      90426900  \n",
       "4      79830000  "
      ]
     },
     "execution_count": 13,
     "metadata": {},
     "output_type": "execute_result"
    }
   ],
   "source": [
    "CAC40 = pd.read_csv('/Users/Administrateur/Documents/ESME3/projet/Cac_40_Project_FinalVersion/Data/CAC40/dfCAC_Global.csv', sep=\",\")\n",
    "CAC40.head()\n"
   ]
  },
  {
   "cell_type": "markdown",
   "metadata": {},
   "source": [
    "# PREDICTION DES 20 PROCHAIN JOURS"
   ]
  },
  {
   "cell_type": "code",
   "execution_count": 36,
   "metadata": {},
   "outputs": [
    {
     "name": "stdout",
     "output_type": "stream",
     "text": [
      "\n",
      "\n",
      "Bonjour chers Etudiants, entrer le symbole du téléscripteur de l'action à prédire: APL\n",
      "Coefficient de détermination:  0.9686455782866716\n",
      "PREDICTION DES FERMES SUR LES 20 PROCHAIN JOURS:\n",
      "[26.91286979 27.64556627 27.59671984 27.34271839 27.34271839 27.32317982\n",
      " 27.13756338 27.14733266 26.34625118 26.38532833 27.21571767 27.75302842\n",
      " 28.42710918 27.99726058 27.25479481 27.2645641  27.20594838 27.36225696\n",
      " 27.00079337 26.56117548]\n"
     ]
    },
    {
     "data": {
      "image/png": "[encoded data removed]",
      "text/plain": [
       "<Figure size 432x288 with 1 Axes>"
      ]
     },
     "metadata": {
      "needs_background": "light"
     },
     "output_type": "display_data"
    }
   ],
   "source": [
    "import quandl\n",
    "import pandas as pd\n",
    "import numpy as np\n",
    "import datetime\n",
    "import matplotlib.pyplot as plt\n",
    "\n",
    "from sklearn.linear_model import LinearRegression\n",
    "#from sklearn import preprocessing, cross_validation, svm\n",
    "from sklearn.model_selection import cross_validate\n",
    "\n",
    "print('\\n')\n",
    "\n",
    "# Retrieve a valid input\n",
    "while True:\n",
    "    input_string = input(\"Bonjour chers Etudiants, entrer le symbole du téléscripteur de l'action à prédire: \")\n",
    "    try:\n",
    "        df = quandl.get(\"WIKI/\" + input_string)                                                     # Dataframe storing stock market data\n",
    "    except:\n",
    "        print(\"BIP-BIP MAUVAIS SYMBOLE ENTRE \\n\")\n",
    "    else:\n",
    "        break\n",
    "\n",
    "df = df[['Adj. Close']]                                                                             # Adjusted Closing Prices\n",
    "# df = df[['open']]   \n",
    "\n",
    "prediction_ahead = 20                                                                               # Predict 30 days ahead of current date\n",
    "df['Prediction'] = df[['Adj. Close']].shift(-prediction_ahead)                                      # Prediction column currently storing previous known stock data\n",
    "\n",
    "x = np.array(df.drop(['Prediction'], axis=1))                                                       # x-axis values based on Adjusted Close dataframe values\n",
    "x = preprocessing.scale(x)                                                                          # x-axis values with even distribution centered on mean\n",
    "\n",
    "x_prediction = x[-prediction_ahead:]                                                                # x_prediction is the last 30 days of x-axis values\n",
    "x = x[:-prediction_ahead]                                                                           # Remove x_prediction values from x-axis values\n",
    "\n",
    "y = np.array(df['Prediction'])                                                                      # y-axis values based on Prediction dataframe values\n",
    "y = y[:-prediction_ahead]                                                                           # Remove last 30 y-axis values to match x-axis values\n",
    "\n",
    "\n",
    "# x_train, x_test, y_train, y_test = cross_validate.train_test_split(x, y, test_size = 0.2)\n",
    "from sklearn.model_selection import train_test_split\n",
    "x_train, x_test, y_train, y_test = train_test_split(x, y, \n",
    "                                         test_size=0.2, random_state=42)\n",
    "\n",
    "\n",
    "# Training\n",
    "clf = LinearRegression()\n",
    "clf.fit(x_train,y_train)\n",
    "\n",
    "# Testing\n",
    "coefficient = clf.score(x_test, y_test)\n",
    "print(\"Coefficient de détermination: \", coefficient)\n",
    "\n",
    "# Prediction\n",
    "forecast_prediction = clf.predict(x_prediction)\n",
    "print(\"PREDICTION DES FERMES SUR LES 20 PROCHAIN JOURS:\")\n",
    "print(forecast_prediction)\n",
    "\n",
    "# Plot\n",
    "plt.plot(np.linspace(0,20,20), forecast_prediction)\n",
    "plt.ylabel('Stock Value')\n",
    "plt.xlabel('Days After Today')\n",
    "plt.title(input_string.upper() + ' Stock Value Prediction')\n",
    "plt.gcf().canvas.set_window_title(input_string.upper() + ' Stock Value Prediction')\n",
    "plt.show()"
   ]
  },
  {
   "cell_type": "markdown",
   "metadata": {},
   "source": [
    "# DANS LA PEAU D'UN TRADER"
   ]
  },
  {
   "cell_type": "code",
   "execution_count": 38,
   "metadata": {},
   "outputs": [],
   "source": [
    "actuel = CAC40 [\"^FCHI_Close\"].tolist()\n",
    "prediction = forecast_prediction"
   ]
  },
  {
   "cell_type": "code",
   "execution_count": 39,
   "metadata": {},
   "outputs": [
    {
     "name": "stdout",
     "output_type": "stream",
     "text": [
      "Selon les prévisions : \n",
      "Vendre à27.645566268643307\n",
      "Acheté à 27.137563378340893\n",
      "Vendre à27.14733266469287\n",
      "Acheté à 26.346251183831367\n",
      "Vendre à28.42710917680087\n",
      "Acheté à 27.25479481456453\n",
      "Vendre à27.264564100916502\n",
      "Acheté à 27.20594838280468\n",
      "Vendre à27.36225696443619\n",
      "29.902271415948267\n",
      "0\n",
      "Profit Net Genéré : 2.989401623702669\n",
      "Profit Net actuel : 24.830078125\n"
     ]
    }
   ],
   "source": [
    "accuracy(actuel,prediction)"
   ]
  },
  {
   "cell_type": "markdown",
   "metadata": {},
   "source": [
    "# PROGRAMME EN DESSOUS"
   ]
  },
  {
   "cell_type": "code",
   "execution_count": 31,
   "metadata": {},
   "outputs": [
    {
     "name": "stdout",
     "output_type": "stream",
     "text": [
      "Vendus à 44.790178967938104\n",
      "Acheter à 44.188835653342096\n",
      "Vendus à 45.632059608372515\n",
      "Acheter à 44.93049240801051\n",
      "Vendus à 45.952776042823714\n",
      "Acheter à 45.1108954023893\n",
      "Vendus à 45.531835722606516\n",
      "Acheter à 43.186596795682085\n",
      "Vendus à 44.469462533486904\n",
      "48.95949261580376\n",
      "0\n",
      "Profit Net : 6.534597351943283\n"
     ]
    }
   ],
   "source": [
    "import random\n",
    "#algo trading \n",
    "\n",
    "money = 0\n",
    "have_stock = 1\n",
    "for i in range(1,len(forecast_prediction)):\n",
    "    if(forecast_prediction[i]>forecast_prediction[i-1] and money>=forecast_prediction[i-1]):\n",
    "        print(\"Acheter à \" + str(forecast_prediction[i-1]))\n",
    "        buy = int(money/forecast_prediction[i-1])\n",
    "        money = money - buy*forecast_prediction[i-1]\n",
    "        have_stock = buy + have_stock\n",
    "    elif(forecast_prediction[i]<forecast_prediction[i-1] and have_stock!=0):\n",
    "        print(\"Vendus à \" + str(forecast_prediction[i-1]))\n",
    "        money = money + have_stock*forecast_prediction[i-1]\n",
    "        have_stock = 0\n",
    "\n",
    "print(money)\n",
    "print(have_stock)\n",
    "\n",
    "print(\"Profit Net : \"+ str(money+have_stock*forecast_prediction[-1] - forecast_prediction[0]))\n"
   ]
  },
  {
   "cell_type": "code",
   "execution_count": 32,
   "metadata": {},
   "outputs": [],
   "source": [
    "\n",
    "def algo_trade_sim(l):\n",
    "    money = 0\n",
    "    have_stock = 1\n",
    "    buy_indices = []\n",
    "    sell_indices = []\n",
    "    for i in range(1,len(l)):\n",
    "        if(l[i]>l[i-1] and money>=l[i-1]):\n",
    "            print(\"Acheté à \" + str(l[i-1]))\n",
    "            buy = int(money/l[i-1])\n",
    "            buy_indices.append((i-1,buy))\n",
    "            money = money - buy*l[i-1]\n",
    "            have_stock = buy + have_stock\n",
    "        elif(l[i]<l[i-1] and have_stock!=0):\n",
    "            print(\"Vendre à\" + str(l[i-1]))\n",
    "            sell_indices.append((i-1,have_stock))\n",
    "            money = money + have_stock*l[i-1]\n",
    "            have_stock = 0\n",
    "\n",
    "    print(money)\n",
    "    print(have_stock)\n",
    "\n",
    "    print(\"Profit Net Genéré : \"+ str(money+have_stock*l[-1] - l[0]))\n",
    "\n",
    "    net_profit = money+have_stock*l[-1] - l[0]\n",
    "    return net_profit,buy_indices,sell_indices,have_stock\n",
    "\n",
    "\n",
    "def accuracy(actual,predicted):\n",
    "    \n",
    "    #predicted\n",
    "    print(\"Selon les prévisions : \")\n",
    "    expected_profit,buy_indices,sell_indices,stocks = algo_trade_sim(predicted)\n",
    "    \n",
    "    money = 0\n",
    "    have_stock = 1\n",
    "    for tup in buy_indices:\n",
    "        money = money - actual[tup[0]]*tup[1]\n",
    "    for tup in sell_indices:\n",
    "        money = money + actual[tup[0]]*tup[1]\n",
    "    \n",
    "    print(\"Profit Net actuel : \"+ str(money+stocks*actual[-1] - actual[0]))\n",
    "    "
   ]
  },
  {
   "cell_type": "code",
   "execution_count": null,
   "metadata": {},
   "outputs": [],
   "source": []
  }
 ],
 "metadata": {
  "kernelspec": {
   "display_name": "Python 3",
   "language": "python",
   "name": "python3"
  },
  "language_info": {
   "codemirror_mode": {
    "name": "ipython",
    "version": 3
   },
   "file_extension": ".py",
   "mimetype": "text/x-python",
   "name": "python",
   "nbconvert_exporter": "python",
   "pygments_lexer": "ipython3",
   "version": "3.7.3"
  },
  "varInspector": {
   "cols": {
    "lenName": 16,
    "lenType": 16,
    "lenVar": 40
   },
   "kernels_config": {
    "python": {
     "delete_cmd_postfix": "",
     "delete_cmd_prefix": "del ",
     "library": "var_list.py",
     "varRefreshCmd": "print(var_dic_list())"
    },
    "r": {
     "delete_cmd_postfix": ") ",
     "delete_cmd_prefix": "rm(",
     "library": "var_list.r",
     "varRefreshCmd": "cat(var_dic_list()) "
    }
   },
   "types_to_exclude": [
    "module",
    "function",
    "builtin_function_or_method",
    "instance",
    "_Feature"
   ],
   "window_display": false
  }
 },
 "nbformat": 4,
 "nbformat_minor": 2
}
