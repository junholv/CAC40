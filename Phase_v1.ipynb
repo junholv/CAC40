{
 "cells": [
  {
   "cell_type": "markdown",
   "metadata": {},
   "source": [
    "# <center> La régression linéaire multiple dans la prédiction du CAC40          \n",
    "#    <center> Recueillons les données avec l’outil de Google correspondant aux dates des données CAC40 récupérées<center> "
   ]
  },
  {
   "cell_type": "markdown",
   "metadata": {},
   "source": [
    "## <center><u><p><font color=\"blue\"> Hypothèse :  En théorie économique, dans un système qui fonctionne bien, il n’est pas possible de prédire le cours futur à partir du cours passé. Le projet consiste à vérifier les difficultés à prédire le CAC40 avec une régression linéaire multiple et de tester si l’apport d’informations externes peut aider la prédiction. </font></p><u><center>"
   ]
  },
  {
   "cell_type": "markdown",
   "metadata": {},
   "source": [
    "## I) Dans cette première partie, nous allons obtenir les données "
   ]
  },
  {
   "cell_type": "code",
   "execution_count": 80,
   "metadata": {},
   "outputs": [
    {
     "data": {
      "image/jpeg": "[encoded data removed]",
      "text/plain": [
       "<IPython.core.display.Image object>"
      ]
     },
     "execution_count": 80,
     "metadata": {
      "image/jpeg": {
       "width": 300
      }
     },
     "output_type": "execute_result"
    }
   ],
   "source": [
    "from IPython.display import HTML, Image, YouTubeVideo, display\n",
    "Image('https://pbs.twimg.com/profile_images/831186374585880577/aQAqWwjG_400x400.jpg', width=300)"
   ]
  },
  {
   "cell_type": "code",
   "execution_count": 81,
   "metadata": {},
   "outputs": [],
   "source": [
    "import pandas as pd # Librarie pandas evoqué dans 1. Obtention des données"
   ]
  },
  {
   "cell_type": "code",
   "execution_count": 82,
   "metadata": {},
   "outputs": [],
   "source": [
    "#Nous ne savons pas a quoi va ressembler la datframe autant mettre des fonctions permet de tout voir\n",
    "\n",
    "pd.set_option('display.max_rows',None,\"display.max_columns\", None)\n",
    "# me montre toutes mes columns de ma df (df = dataframe)\n",
    "#me montre tout les ligne de macolumn ma df (df = dataframe)\n",
    "#None designe le nombre d'element maximum, dans mon cas aucune limite\n",
    "#Nous aurions pu le remplacer par un chiffre."
   ]
  },
  {
   "cell_type": "markdown",
   "metadata": {},
   "source": [
    "## Les libellés et les codes des valeurs\n"
   ]
  },
  {
   "cell_type": "code",
   "execution_count": 83,
   "metadata": {},
   "outputs": [
    {
     "data": {
      "text/html": [
       "<div>\n",
       "<style scoped>\n",
       "    .dataframe tbody tr th:only-of-type {\n",
       "        vertical-align: middle;\n",
       "    }\n",
       "\n",
       "    .dataframe tbody tr th {\n",
       "        vertical-align: top;\n",
       "    }\n",
       "\n",
       "    .dataframe thead th {\n",
       "        text-align: right;\n",
       "    }\n",
       "</style>\n",
       "<table border=\"1\" class=\"dataframe\">\n",
       "  <thead>\n",
       "    <tr style=\"text-align: right;\">\n",
       "      <th></th>\n",
       "      <th>ISIN</th>\n",
       "      <th>nom</th>\n",
       "      <th>ticker</th>\n",
       "    </tr>\n",
       "  </thead>\n",
       "  <tbody>\n",
       "    <tr>\n",
       "      <th>8</th>\n",
       "      <td>FR0000120404</td>\n",
       "      <td>Accor Hotels</td>\n",
       "      <td>AC</td>\n",
       "    </tr>\n",
       "    <tr>\n",
       "      <th>4</th>\n",
       "      <td>FR0000120073</td>\n",
       "      <td>Air Liquide</td>\n",
       "      <td>AI</td>\n",
       "    </tr>\n",
       "    <tr>\n",
       "      <th>39</th>\n",
       "      <td>NL0000235190</td>\n",
       "      <td>Airbus</td>\n",
       "      <td>AIR</td>\n",
       "    </tr>\n",
       "    <tr>\n",
       "      <th>37</th>\n",
       "      <td>LU1598757687</td>\n",
       "      <td>Arcelor Mittal</td>\n",
       "      <td>MT</td>\n",
       "    </tr>\n",
       "    <tr>\n",
       "      <th>1</th>\n",
       "      <td>FR0000051732</td>\n",
       "      <td>Atos</td>\n",
       "      <td>ATO</td>\n",
       "    </tr>\n",
       "    <tr>\n",
       "      <th>11</th>\n",
       "      <td>FR0000120628</td>\n",
       "      <td>Axa</td>\n",
       "      <td>CS</td>\n",
       "    </tr>\n",
       "    <tr>\n",
       "      <th>29</th>\n",
       "      <td>FR0000131104</td>\n",
       "      <td>Bnp Paribas</td>\n",
       "      <td>BNP</td>\n",
       "    </tr>\n",
       "    <tr>\n",
       "      <th>9</th>\n",
       "      <td>FR0000120503</td>\n",
       "      <td>Bouygues</td>\n",
       "      <td>EN</td>\n",
       "    </tr>\n",
       "    <tr>\n",
       "      <th>23</th>\n",
       "      <td>FR0000125338</td>\n",
       "      <td>CapGemini</td>\n",
       "      <td>CAP</td>\n",
       "    </tr>\n",
       "    <tr>\n",
       "      <th>5</th>\n",
       "      <td>FR0000120172</td>\n",
       "      <td>Carrefour</td>\n",
       "      <td>CA</td>\n",
       "    </tr>\n",
       "    <tr>\n",
       "      <th>0</th>\n",
       "      <td>FR0000045072</td>\n",
       "      <td>Credit Agricole</td>\n",
       "      <td>ACA</td>\n",
       "    </tr>\n",
       "    <tr>\n",
       "      <th>12</th>\n",
       "      <td>FR0000120644</td>\n",
       "      <td>Danone</td>\n",
       "      <td>BN</td>\n",
       "    </tr>\n",
       "    <tr>\n",
       "      <th>27</th>\n",
       "      <td>FR0000130650</td>\n",
       "      <td>Dassault Systemes</td>\n",
       "      <td>DSY</td>\n",
       "    </tr>\n",
       "    <tr>\n",
       "      <th>32</th>\n",
       "      <td>FR0010208488</td>\n",
       "      <td>Engie</td>\n",
       "      <td>ENGI</td>\n",
       "    </tr>\n",
       "    <tr>\n",
       "      <th>19</th>\n",
       "      <td>FR0000121667</td>\n",
       "      <td>EssilorLuxottica</td>\n",
       "      <td>EL</td>\n",
       "    </tr>\n",
       "    <tr>\n",
       "      <th>2</th>\n",
       "      <td>FR0000052292</td>\n",
       "      <td>Hermes</td>\n",
       "      <td>RMS</td>\n",
       "    </tr>\n",
       "    <tr>\n",
       "      <th>17</th>\n",
       "      <td>FR0000121485</td>\n",
       "      <td>Kering</td>\n",
       "      <td>KER</td>\n",
       "    </tr>\n",
       "    <tr>\n",
       "      <th>7</th>\n",
       "      <td>FR0000120321</td>\n",
       "      <td>L'oreal</td>\n",
       "      <td>OR</td>\n",
       "    </tr>\n",
       "    <tr>\n",
       "      <th>33</th>\n",
       "      <td>FR0010307819</td>\n",
       "      <td>Legrand SA</td>\n",
       "      <td>LR</td>\n",
       "    </tr>\n",
       "    <tr>\n",
       "      <th>14</th>\n",
       "      <td>FR0000121014</td>\n",
       "      <td>Lvmh</td>\n",
       "      <td>MC</td>\n",
       "    </tr>\n",
       "    <tr>\n",
       "      <th>16</th>\n",
       "      <td>FR0000121261</td>\n",
       "      <td>Michelin</td>\n",
       "      <td>ML</td>\n",
       "    </tr>\n",
       "    <tr>\n",
       "      <th>31</th>\n",
       "      <td>FR0000133308</td>\n",
       "      <td>Orange</td>\n",
       "      <td>ORA</td>\n",
       "    </tr>\n",
       "    <tr>\n",
       "      <th>13</th>\n",
       "      <td>FR0000120693</td>\n",
       "      <td>Pernod Ricard</td>\n",
       "      <td>RI</td>\n",
       "    </tr>\n",
       "    <tr>\n",
       "      <th>18</th>\n",
       "      <td>FR0000121501</td>\n",
       "      <td>Peugeot</td>\n",
       "      <td>UG</td>\n",
       "    </tr>\n",
       "    <tr>\n",
       "      <th>26</th>\n",
       "      <td>FR0000130577</td>\n",
       "      <td>Publicis Groupe</td>\n",
       "      <td>PUB</td>\n",
       "    </tr>\n",
       "    <tr>\n",
       "      <th>30</th>\n",
       "      <td>FR0000131906</td>\n",
       "      <td>Renault</td>\n",
       "      <td>RNO</td>\n",
       "    </tr>\n",
       "    <tr>\n",
       "      <th>3</th>\n",
       "      <td>FR0000073272</td>\n",
       "      <td>Safran</td>\n",
       "      <td>SAF</td>\n",
       "    </tr>\n",
       "    <tr>\n",
       "      <th>22</th>\n",
       "      <td>FR0000125007</td>\n",
       "      <td>Saint Gobain</td>\n",
       "      <td>SGO</td>\n",
       "    </tr>\n",
       "    <tr>\n",
       "      <th>10</th>\n",
       "      <td>FR0000120578</td>\n",
       "      <td>Sanofi</td>\n",
       "      <td>SAN</td>\n",
       "    </tr>\n",
       "    <tr>\n",
       "      <th>20</th>\n",
       "      <td>FR0000121972</td>\n",
       "      <td>Schneider Electric</td>\n",
       "      <td>SU</td>\n",
       "    </tr>\n",
       "    <tr>\n",
       "      <th>28</th>\n",
       "      <td>FR0000130809</td>\n",
       "      <td>Societe Generale</td>\n",
       "      <td>GLE</td>\n",
       "    </tr>\n",
       "    <tr>\n",
       "      <th>15</th>\n",
       "      <td>FR0000121220</td>\n",
       "      <td>Sodexo</td>\n",
       "      <td>SW</td>\n",
       "    </tr>\n",
       "    <tr>\n",
       "      <th>38</th>\n",
       "      <td>NL0000226223</td>\n",
       "      <td>Stmicroelectronics</td>\n",
       "      <td>STM</td>\n",
       "    </tr>\n",
       "    <tr>\n",
       "      <th>36</th>\n",
       "      <td>GB00BDSFG982</td>\n",
       "      <td>TechnipFMC</td>\n",
       "      <td>FTI</td>\n",
       "    </tr>\n",
       "    <tr>\n",
       "      <th>6</th>\n",
       "      <td>FR0000120271</td>\n",
       "      <td>Total</td>\n",
       "      <td>FP</td>\n",
       "    </tr>\n",
       "    <tr>\n",
       "      <th>35</th>\n",
       "      <td>FR0013326246</td>\n",
       "      <td>Unibail - Wfd Unibai</td>\n",
       "      <td>URW</td>\n",
       "    </tr>\n",
       "    <tr>\n",
       "      <th>34</th>\n",
       "      <td>FR0013176526</td>\n",
       "      <td>Valeo</td>\n",
       "      <td>FR</td>\n",
       "    </tr>\n",
       "    <tr>\n",
       "      <th>21</th>\n",
       "      <td>FR0000124141</td>\n",
       "      <td>Veolia Environ.</td>\n",
       "      <td>VIE</td>\n",
       "    </tr>\n",
       "    <tr>\n",
       "      <th>24</th>\n",
       "      <td>FR0000125486</td>\n",
       "      <td>Vinci</td>\n",
       "      <td>DG</td>\n",
       "    </tr>\n",
       "    <tr>\n",
       "      <th>25</th>\n",
       "      <td>FR0000127771</td>\n",
       "      <td>Vivendi</td>\n",
       "      <td>VIV</td>\n",
       "    </tr>\n",
       "  </tbody>\n",
       "</table>\n",
       "</div>"
      ],
      "text/plain": [
       "            ISIN                   nom ticker\n",
       "8   FR0000120404          Accor Hotels     AC\n",
       "4   FR0000120073           Air Liquide     AI\n",
       "39  NL0000235190                Airbus    AIR\n",
       "37  LU1598757687        Arcelor Mittal     MT\n",
       "1   FR0000051732                  Atos    ATO\n",
       "11  FR0000120628                   Axa     CS\n",
       "29  FR0000131104           Bnp Paribas    BNP\n",
       "9   FR0000120503              Bouygues     EN\n",
       "23  FR0000125338             CapGemini    CAP\n",
       "5   FR0000120172             Carrefour     CA\n",
       "0   FR0000045072       Credit Agricole    ACA\n",
       "12  FR0000120644                Danone     BN\n",
       "27  FR0000130650     Dassault Systemes    DSY\n",
       "32  FR0010208488                 Engie   ENGI\n",
       "19  FR0000121667      EssilorLuxottica     EL\n",
       "2   FR0000052292                Hermes    RMS\n",
       "17  FR0000121485                Kering    KER\n",
       "7   FR0000120321               L'oreal     OR\n",
       "33  FR0010307819            Legrand SA     LR\n",
       "14  FR0000121014                  Lvmh     MC\n",
       "16  FR0000121261              Michelin     ML\n",
       "31  FR0000133308                Orange    ORA\n",
       "13  FR0000120693         Pernod Ricard     RI\n",
       "18  FR0000121501               Peugeot     UG\n",
       "26  FR0000130577       Publicis Groupe    PUB\n",
       "30  FR0000131906               Renault    RNO\n",
       "3   FR0000073272                Safran    SAF\n",
       "22  FR0000125007          Saint Gobain    SGO\n",
       "10  FR0000120578                Sanofi    SAN\n",
       "20  FR0000121972    Schneider Electric     SU\n",
       "28  FR0000130809      Societe Generale    GLE\n",
       "15  FR0000121220                Sodexo     SW\n",
       "38  NL0000226223    Stmicroelectronics    STM\n",
       "36  GB00BDSFG982            TechnipFMC    FTI\n",
       "6   FR0000120271                 Total     FP\n",
       "35  FR0013326246  Unibail - Wfd Unibai    URW\n",
       "34  FR0013176526                 Valeo     FR\n",
       "21  FR0000124141       Veolia Environ.    VIE\n",
       "24  FR0000125486                 Vinci     DG\n",
       "25  FR0000127771               Vivendi    VIV"
      ]
     },
     "execution_count": 83,
     "metadata": {},
     "output_type": "execute_result"
    }
   ],
   "source": [
    "df_li2 = pd.read_csv('Data/libelles.csv', sep=\";\")\n",
    "#Ici pas besoin de mettre le header à None.\n",
    "df_li=df_li2.sort_values('nom')\n",
    "\n",
    "df_li "
   ]
  },
  {
   "cell_type": "markdown",
   "metadata": {},
   "source": [
    "## Libellés sur liste "
   ]
  },
  {
   "cell_type": "markdown",
   "metadata": {},
   "source": [
    "### Liste ticker"
   ]
  },
  {
   "cell_type": "code",
   "execution_count": 84,
   "metadata": {},
   "outputs": [
    {
     "name": "stdout",
     "output_type": "stream",
     "text": [
      "['AC', 'AI', 'AIR', 'MT', 'ATO', 'CS', 'BNP', 'EN', 'CAP', 'CA', 'ACA', 'BN', 'DSY', 'ENGI', 'EL', 'RMS', 'KER', 'OR', 'LR', 'MC', 'ML', 'ORA', 'RI', 'UG', 'PUB', 'RNO', 'SAF', 'SGO', 'SAN', 'SU', 'GLE', 'SW', 'STM', 'FTI', 'FP', 'URW', 'FR', 'VIE', 'DG', 'VIV']\n"
     ]
    }
   ],
   "source": [
    "#ici nous listons les ticker des entreprises de la column ticker\n",
    "my_list_Ticker = df_li[\"ticker\"].tolist()\n",
    "print(my_list_Ticker)"
   ]
  },
  {
   "cell_type": "code",
   "execution_count": 85,
   "metadata": {},
   "outputs": [
    {
     "name": "stdout",
     "output_type": "stream",
     "text": [
      "['AC.PA', 'ACA.PA', 'AI.PA', 'AIR.PA', 'ATO.PA', 'BN.PA', 'BNP.PA', 'CA.PA', 'CAP.PA', 'CS.PA', 'DG.PA', 'DSY.PA', 'EL.PA', 'EN.PA', 'ENGI.PA', 'FP.PA', 'FR.PA', 'FTI.PA', 'GLE.PA', 'KER.PA', 'LR.PA', 'MC.PA', 'ML.PA', 'MT.PA', 'OR.PA', 'ORA.PA', 'PUB.PA', 'RI.PA', 'RMS.PA', 'RNO.PA', 'SAF.PA', 'SAN.PA', 'SGO.PA', 'STM.PA', 'SU.PA', 'SW.PA', 'UG.PA', 'URW.PA', 'VIE.PA', 'VIV.PA']\n"
     ]
    }
   ],
   "source": [
    "#mystring_1=\"Data/Cours_propre/\"\n",
    "mystring_2 =\".PA\"\n",
    "#my_data_propre = [mystring_1 + s + mystring_2 for s in my_list_Ticker]\n",
    "my_data_propre = [s + mystring_2 for s in my_list_Ticker]\n",
    "print(sorted(my_data_propre))\n",
    "\n",
    "#^FCHI pour le cac 40\n",
    "#MT = MT.AS\n",
    "#URW.AS = unibail = URW\n",
    "#Essilor problème car nouveau contrat "
   ]
  },
  {
   "cell_type": "code",
   "execution_count": 86,
   "metadata": {},
   "outputs": [
    {
     "data": {
      "text/html": [
       "<div>\n",
       "<style scoped>\n",
       "    .dataframe tbody tr th:only-of-type {\n",
       "        vertical-align: middle;\n",
       "    }\n",
       "\n",
       "    .dataframe tbody tr th {\n",
       "        vertical-align: top;\n",
       "    }\n",
       "\n",
       "    .dataframe thead th {\n",
       "        text-align: right;\n",
       "    }\n",
       "</style>\n",
       "<table border=\"1\" class=\"dataframe\">\n",
       "  <thead>\n",
       "    <tr style=\"text-align: right;\">\n",
       "      <th></th>\n",
       "      <th>0</th>\n",
       "      <th>2</th>\n",
       "      <th>3</th>\n",
       "      <th>4</th>\n",
       "      <th>5</th>\n",
       "      <th>6</th>\n",
       "    </tr>\n",
       "    <tr>\n",
       "      <th>1</th>\n",
       "      <th></th>\n",
       "      <th></th>\n",
       "      <th></th>\n",
       "      <th></th>\n",
       "      <th></th>\n",
       "      <th></th>\n",
       "    </tr>\n",
       "  </thead>\n",
       "  <tbody>\n",
       "    <tr>\n",
       "      <th>2017-03-01</th>\n",
       "      <td>EL</td>\n",
       "      <td>108.85</td>\n",
       "      <td>110.65</td>\n",
       "      <td>108.50</td>\n",
       "      <td>109.5</td>\n",
       "      <td>552596</td>\n",
       "    </tr>\n",
       "    <tr>\n",
       "      <th>2017-03-02</th>\n",
       "      <td>EL</td>\n",
       "      <td>109.20</td>\n",
       "      <td>109.20</td>\n",
       "      <td>106.70</td>\n",
       "      <td>108.5</td>\n",
       "      <td>751009</td>\n",
       "    </tr>\n",
       "    <tr>\n",
       "      <th>2017-03-03</th>\n",
       "      <td>EL</td>\n",
       "      <td>108.05</td>\n",
       "      <td>108.90</td>\n",
       "      <td>106.95</td>\n",
       "      <td>108.9</td>\n",
       "      <td>494050</td>\n",
       "    </tr>\n",
       "    <tr>\n",
       "      <th>2017-03-06</th>\n",
       "      <td>EL</td>\n",
       "      <td>108.40</td>\n",
       "      <td>108.55</td>\n",
       "      <td>107.70</td>\n",
       "      <td>108.4</td>\n",
       "      <td>302121</td>\n",
       "    </tr>\n",
       "    <tr>\n",
       "      <th>2017-03-07</th>\n",
       "      <td>EL</td>\n",
       "      <td>108.70</td>\n",
       "      <td>108.70</td>\n",
       "      <td>107.55</td>\n",
       "      <td>108.0</td>\n",
       "      <td>398724</td>\n",
       "    </tr>\n",
       "  </tbody>\n",
       "</table>\n",
       "</div>"
      ],
      "text/plain": [
       "             0       2       3       4      5       6\n",
       "1                                                    \n",
       "2017-03-01  EL  108.85  110.65  108.50  109.5  552596\n",
       "2017-03-02  EL  109.20  109.20  106.70  108.5  751009\n",
       "2017-03-03  EL  108.05  108.90  106.95  108.9  494050\n",
       "2017-03-06  EL  108.40  108.55  107.70  108.4  302121\n",
       "2017-03-07  EL  108.70  108.70  107.55  108.0  398724"
      ]
     },
     "execution_count": 86,
     "metadata": {},
     "output_type": "execute_result"
    }
   ],
   "source": [
    "#Reglage Essilor, car il y'a eu des accords durant un temps\n",
    "dfEL= pd.read_csv('Data/EntrepriseCAC40/EL.txt', sep=\";\", index_col=1, parse_dates=True,infer_datetime_format=False,dayfirst=True,header=None)\n",
    "#df = pd.read_csv('data/PX1.txt', sep=\";\",parse_dates=True, infer_datetime_format=True, header=None)\n",
    "\n",
    "#df : data\n",
    "#pd : car j'ai mis que pandas devient pd\n",
    "#sep=\";\" : deliminter, c'est un character special qui separe les différents column de dasaset entre elles.\n",
    "#index_col=0 : nous visons la deuxieme column du fichier:\n",
    "#https://pandas.pydata.org/pandas-docs/stable/reference/api/pandas.read_csv.html\n",
    "#parse_dates=True,\n",
    "#infer_datetime_format=True)\n",
    "#header=None : empêche que la première ligne de la df deviene les titre de sa même colone\n",
    "#si la dataframe n'a aucun titre cela peut se produire, avec le None on assure de rien perdre.\n",
    "#Nous montre la df\n",
    "dfEL.head()"
   ]
  },
  {
   "cell_type": "markdown",
   "metadata": {},
   "source": [
    "### Interpretation Mathématique de la df"
   ]
  },
  {
   "cell_type": "markdown",
   "metadata": {},
   "source": [
    "Première vue d'ensemble de la df.\n",
    "Mathématiquement nous pouvons l'interpreter.\n",
    "Vous savez, la data peut parfois être representer comme un une donnée **matriciel de n*d**.\n",
    "\n",
    "Avec **n**: nombre de rows\n",
    "et **d**: nombre de column\n",
    "\n",
    "Où\n",
    "**rows**: represente **les entities de la dasaet**\n",
    "**column**: reprensete **les attribut de la dataset**\n",
    "\n",
    "Chaque row dans la data matriciel enregistre des données observé en rapport avec\n",
    "sa son entités.\n",
    "\n",
    "Les **n*d** de cette data matriciel sont données par:\n",
    "\n",
    "j denote le j ième nombre du d-tuple:\n",
    "sur les **Xj** (attribut): [0, 1, 2, 3, 4, 5, 6]\n",
    "\n",
    "i denote le ième nombre du d-tuple\n",
    "sur les **xi** : [0, 1, 2, ......,510]\n",
    "\n",
    "d-tuple: collection ordonée de n objet\n"
   ]
  },
  {
   "cell_type": "markdown",
   "metadata": {},
   "source": [
    "D'accord nous venons de comprendre la df maintenant a quoi correspond chaque column?\n",
    "Hey Bien sur le site:\n",
    "**https://www.abcbourse.com/download/download.aspx?s=PX1p**\n",
    "\n",
    "On dis le nom de chaque column, donc on sait a quoi correspond chaque column\n",
    "Renomons nos columns des **Xj** (attribut): [0, 1, 2, 3, 4, 5, 6]\n",
    "\n",
    "Par:\n",
    "      **Xj**=**['Identifiant de la valeur', 'Date', 'le cours d'ouverture',\n",
    "       'le plus haut', 'le plus bas', 'le cours de clôture',\n",
    "       'le volume de titres échangés']**\n"
   ]
  },
  {
   "cell_type": "code",
   "execution_count": 87,
   "metadata": {},
   "outputs": [
    {
     "data": {
      "text/html": [
       "<div>\n",
       "<style scoped>\n",
       "    .dataframe tbody tr th:only-of-type {\n",
       "        vertical-align: middle;\n",
       "    }\n",
       "\n",
       "    .dataframe tbody tr th {\n",
       "        vertical-align: top;\n",
       "    }\n",
       "\n",
       "    .dataframe thead th {\n",
       "        text-align: right;\n",
       "    }\n",
       "</style>\n",
       "<table border=\"1\" class=\"dataframe\">\n",
       "  <thead>\n",
       "    <tr style=\"text-align: right;\">\n",
       "      <th></th>\n",
       "      <th>EL_O</th>\n",
       "      <th>EL_H</th>\n",
       "      <th>EL_L</th>\n",
       "      <th>EL_C</th>\n",
       "      <th>EL_V</th>\n",
       "    </tr>\n",
       "    <tr>\n",
       "      <th>Date</th>\n",
       "      <th></th>\n",
       "      <th></th>\n",
       "      <th></th>\n",
       "      <th></th>\n",
       "      <th></th>\n",
       "    </tr>\n",
       "  </thead>\n",
       "  <tbody>\n",
       "    <tr>\n",
       "      <th>2017-03-01</th>\n",
       "      <td>108.85</td>\n",
       "      <td>110.65</td>\n",
       "      <td>108.50</td>\n",
       "      <td>109.5</td>\n",
       "      <td>552596</td>\n",
       "    </tr>\n",
       "    <tr>\n",
       "      <th>2017-03-02</th>\n",
       "      <td>109.20</td>\n",
       "      <td>109.20</td>\n",
       "      <td>106.70</td>\n",
       "      <td>108.5</td>\n",
       "      <td>751009</td>\n",
       "    </tr>\n",
       "    <tr>\n",
       "      <th>2017-03-03</th>\n",
       "      <td>108.05</td>\n",
       "      <td>108.90</td>\n",
       "      <td>106.95</td>\n",
       "      <td>108.9</td>\n",
       "      <td>494050</td>\n",
       "    </tr>\n",
       "    <tr>\n",
       "      <th>2017-03-06</th>\n",
       "      <td>108.40</td>\n",
       "      <td>108.55</td>\n",
       "      <td>107.70</td>\n",
       "      <td>108.4</td>\n",
       "      <td>302121</td>\n",
       "    </tr>\n",
       "    <tr>\n",
       "      <th>2017-03-07</th>\n",
       "      <td>108.70</td>\n",
       "      <td>108.70</td>\n",
       "      <td>107.55</td>\n",
       "      <td>108.0</td>\n",
       "      <td>398724</td>\n",
       "    </tr>\n",
       "  </tbody>\n",
       "</table>\n",
       "</div>"
      ],
      "text/plain": [
       "              EL_O    EL_H    EL_L   EL_C    EL_V\n",
       "Date                                             \n",
       "2017-03-01  108.85  110.65  108.50  109.5  552596\n",
       "2017-03-02  109.20  109.20  106.70  108.5  751009\n",
       "2017-03-03  108.05  108.90  106.95  108.9  494050\n",
       "2017-03-06  108.40  108.55  107.70  108.4  302121\n",
       "2017-03-07  108.70  108.70  107.55  108.0  398724"
      ]
     },
     "execution_count": 87,
     "metadata": {},
     "output_type": "execute_result"
    }
   ],
   "source": [
    "#renome les columns\n",
    "dfEL.columns = [\"ISIN_G\", \"EL_O\", \"EL_H\", \"EL_L\",\"EL_C\", \"EL_V\"]\n",
    "dfEL.index.names = ['Date']\n",
    "del dfEL[\"ISIN_G\"]\n",
    "dfEL.head()"
   ]
  },
  {
   "cell_type": "code",
   "execution_count": 88,
   "metadata": {},
   "outputs": [],
   "source": [
    "#Pour le CAC40\n",
    "symbols= [\"^FCHI\"]\n",
    "\n",
    "\n",
    "######################\n",
    "######################\n",
    "#Deux probleme URW,EL.\n",
    "# pour URW index 320 : URW;05/06/18; 191.45;193.00;189.95;192.45;584424\n",
    "\n",
    "\n",
    "######################\n",
    "######################\n",
    "\n",
    "#Des entreprises du CAC40 valeur\n",
    "#symbols = ['AC.PA', 'ACA.PA', 'AI.PA', 'AIR.PA', 'ATO.PA', 'BN.PA', 'BNP.PA', 'CA.PA', 'CAP.PA', 'CS.PA', 'DG.PA', 'DSY.PA', 'EL.PA', 'EN.PA', 'ENGI.PA', 'FP.PA', 'FR.PA', 'FTI.PA', 'GLE.PA', 'KER.PA', 'LR.PA', 'MC.PA', 'ML.PA', 'MT.AS', 'OR.PA', 'ORA.PA', 'PUB.PA', 'RI.PA', 'RMS.PA', 'RNO.PA', 'SAF.PA', 'SAN.PA', 'SGO.PA', 'STM.PA', 'SU.PA', 'SW.PA', 'UG.PA', 'URW.AS', 'VIE.PA', 'VIV.PA']\n",
    "                                                        \n",
    "\n",
    "#symbols = [\"EI.VI\"]\n",
    "#symbols = [\"EL.PA\"]\n",
    "\n",
    "  # the symbols for the portfolio optimization\n",
    "noa = len(symbols)\n"
   ]
  },
  {
   "cell_type": "code",
   "execution_count": 89,
   "metadata": {},
   "outputs": [],
   "source": [
    "#pandas provides functions to retrieve stock price information from eg Yahoo! or Google.\n",
    "#import pandas.io.data as web\n",
    "#from pandas_datareader import data, wb\n",
    "import pandas_datareader.data as web"
   ]
  },
  {
   "cell_type": "code",
   "execution_count": 90,
   "metadata": {},
   "outputs": [],
   "source": [
    "import os\n",
    "\n",
    "data = pd.DataFrame()\n",
    "for sym in symbols:\n",
    "    data[sym] = web.DataReader(sym, data_source='yahoo', start='2017-03-01', end='2019-03-01')[\"Open\"]\n",
    "data.columns = symbols\n",
    "\n",
    "#CAC40 valeur\n",
    "    #Open\n",
    "#data.to_csv(\"/Users/Administrateur/Documents/ESME3/projet/Pred/Data/CAC4O/dfCAC_Open.csv\")\n",
    "    #High\n",
    "#data.to_csv(\"/Users/Administrateur/Documents/ESME3/projet/Pred/Data/CAC4O/dfCAC_High.csv\")\n",
    "    #Low\n",
    "#data.to_csv(\"/Users/Administrateur/Documents/ESME3/projet/Pred/Data/CAC4O/dfCAC_Low.csv\")\n",
    "    #Close\n",
    "#data.to_csv(\"/Users/Administrateur/Documents/ESME3/projet/Pred/Data/CAC4O/dfCAC_Close.csv\")\n",
    "    #Adj Close\n",
    "#data.to_csv(\"/Users/Administrateur/Documents/ESME3/projet/Pred/Data/CAC4O/dfCAC_AdjClose.csv\")\n",
    "    #volume\n",
    "#data.to_csv(\"/Users/Administrateur/Documents/ESME3/projet/Pred/Data/CAC4O/dfCAC_Volume.csv\")\n",
    "\n",
    "######################\n",
    "######################\n",
    "######################\n",
    "\n",
    "#Des entreprises du CAC40 valeur\n",
    "######################\n",
    " #Open\n",
    "# data[\"EL.PA\"]= dfEL[\"EL_O\"]\n",
    "# data.reset_index(inplace = True)\n",
    "# data.loc[320,\"URW.AS\"] = \"191.45\"\n",
    "# data[\"EL.PA\"] = data[\"EL.PA\"].astype(float)\n",
    "# data.set_index(\"Date\", inplace =True)\n",
    "# ######################\n",
    "#data.to_csv(\"/Users/Administrateur/Documents/ESME3/projet/Pred/Data/EntrepriseCAC40/dfEntrepriseCAC_Open.csv\")\n",
    "######################    \n",
    "    #High\n",
    "# data[\"EL.PA\"]= dfEL[\"EL_H\"]\n",
    "# data.reset_index(inplace = True)\n",
    "# data.reset_index(inplace = True)\n",
    "# data.loc[320,\"URW.AS\"] = \"193.00\"\n",
    "# data[\"EL.PA\"] = data[\"EL.PA\"].astype(float)\n",
    "# data.set_index(\"Date\", inplace =True)\n",
    "# #####################\n",
    "# data.to_csv(\"/Users/Administrateur/Documents/ESME3/projet/Pred/Data/EntrepriseCAC40/dfEntrepriseCAC_High.csv\")\n",
    "# #####################    \n",
    "    #Low\n",
    "# data[\"EL.PA\"]= dfEL[\"EL_L\"]\n",
    "# data.reset_index(inplace = True)\n",
    "# data.loc[320,\"URW.AS\"] = \"191.45\"\n",
    "# data[\"EL.PA\"] = data[\"EL.PA\"].astype(float)\n",
    "# data.set_index(\"Date\", inplace =True)\n",
    "# #####################\n",
    "# data.to_csv(\"/Users/Administrateur/Documents/ESME3/projet/Pred/Data/EntrepriseCAC40/dfEntrepriseCAC_Low.csv\")\n",
    "# #####################    \n",
    "    #Close\n",
    "# data[\"EL.PA\"]= dfEL[\"EL_C\"]\n",
    "# data.reset_index(inplace = True)\n",
    "# data.loc[320,\"URW.AS\"] = \"192.45\"\n",
    "# data[\"EL.PA\"] = data[\"EL.PA\"].astype(float)\n",
    "# data.set_index(\"Date\", inplace =True)\n",
    "# #####################\n",
    "# data.to_csv(\"/Users/Administrateur/Documents/ESME3/projet/Pred/Data/EntrepriseCAC40/dfEntrepriseCAC_Close.csv\")\n",
    "#####################    \n",
    "    #Adj Close\n",
    "######################\n",
    "#data.to_csv(\"/Users/Administrateur/Documents/ESME3/projet/Pred/Data/EntrepriseCAC40/dfEntrepriseCAC_AdjClose.csv\")\n",
    "######################    \n",
    "    #Volume\n",
    "# data[\"EL.PA\"]= dfEL[\"EL_V\"]\n",
    "# data.reset_index(inplace = True)\n",
    "# data.loc[320,\"URW.AS\"] = \"584424\"\n",
    "# data[\"EL.PA\"] = data[\"EL.PA\"].astype(float)\n",
    "# data.set_index(\"Date\", inplace =True)\n",
    "######################\n",
    "#data.to_csv(\"/Users/Administrateur/Documents/ESME3/projet/Pred/Data/EntrepriseCAC40/dfEntrepriseCAC_Volume.csv\")\n",
    "#data.head()\n",
    "\n"
   ]
  },
  {
   "cell_type": "code",
   "execution_count": 91,
   "metadata": {},
   "outputs": [
    {
     "name": "stdout",
     "output_type": "stream",
     "text": [
      "<class 'pandas.core.frame.DataFrame'>\n",
      "DatetimeIndex: 511 entries, 2017-03-01 to 2019-03-01\n",
      "Data columns (total 1 columns):\n",
      "^FCHI    511 non-null float64\n",
      "dtypes: float64(1)\n",
      "memory usage: 8.0 KB\n"
     ]
    },
    {
     "data": {
      "text/plain": [
       "^FCHI    0\n",
       "dtype: int64"
      ]
     },
     "execution_count": 91,
     "metadata": {},
     "output_type": "execute_result"
    }
   ],
   "source": [
    "data.info()\n",
    "data.isnull().sum()"
   ]
  },
  {
   "cell_type": "markdown",
   "metadata": {},
   "source": [
    "## Verification des données "
   ]
  },
  {
   "cell_type": "markdown",
   "metadata": {},
   "source": [
    "            Entreprise rentrons dans le CAC40   à la Place de:\n",
    "\n",
    "    24 septembre 2018 Dassault Systèmes\t    ->     Solvay (entreprise)\n",
    "    18 juin 2018\tHermès\t                ->     LafargeHolcim\n",
    "    18 septembre 2017\tSTMicroelectronics\t->     Nokia\n",
    "    20 mars 2017\tAtos                    ->     Klépierre"
   ]
  },
  {
   "cell_type": "markdown",
   "metadata": {},
   "source": [
    "## Verification des données "
   ]
  },
  {
   "cell_type": "markdown",
   "metadata": {},
   "source": [
    "## Data Frame CAC 40"
   ]
  },
  {
   "cell_type": "code",
   "execution_count": 92,
   "metadata": {},
   "outputs": [
    {
     "data": {
      "text/html": [
       "<div>\n",
       "<style scoped>\n",
       "    .dataframe tbody tr th:only-of-type {\n",
       "        vertical-align: middle;\n",
       "    }\n",
       "\n",
       "    .dataframe tbody tr th {\n",
       "        vertical-align: top;\n",
       "    }\n",
       "\n",
       "    .dataframe thead th {\n",
       "        text-align: right;\n",
       "    }\n",
       "</style>\n",
       "<table border=\"1\" class=\"dataframe\">\n",
       "  <thead>\n",
       "    <tr style=\"text-align: right;\">\n",
       "      <th></th>\n",
       "      <th>^FCHI</th>\n",
       "    </tr>\n",
       "    <tr>\n",
       "      <th>Date</th>\n",
       "      <th></th>\n",
       "    </tr>\n",
       "  </thead>\n",
       "  <tbody>\n",
       "    <tr>\n",
       "      <th>2017-03-01</th>\n",
       "      <td>4960.830078</td>\n",
       "    </tr>\n",
       "    <tr>\n",
       "      <th>2017-03-02</th>\n",
       "      <td>4963.799805</td>\n",
       "    </tr>\n",
       "    <tr>\n",
       "      <th>2017-03-03</th>\n",
       "      <td>4995.129883</td>\n",
       "    </tr>\n",
       "    <tr>\n",
       "      <th>2017-03-06</th>\n",
       "      <td>4972.189941</td>\n",
       "    </tr>\n",
       "    <tr>\n",
       "      <th>2017-03-07</th>\n",
       "      <td>4955.000000</td>\n",
       "    </tr>\n",
       "  </tbody>\n",
       "</table>\n",
       "</div>"
      ],
      "text/plain": [
       "                  ^FCHI\n",
       "Date                   \n",
       "2017-03-01  4960.830078\n",
       "2017-03-02  4963.799805\n",
       "2017-03-03  4995.129883\n",
       "2017-03-06  4972.189941\n",
       "2017-03-07  4955.000000"
      ]
     },
     "execution_count": 92,
     "metadata": {},
     "output_type": "execute_result"
    }
   ],
   "source": [
    "#Data frame CAC40 Open\n",
    "dfC_O = pd.read_csv(\"Data/CAC4O/dfCAC_Open.csv\",index_col=0)\n",
    "#Data frame CAC40 High\n",
    "dfC_H = pd.read_csv(\"Data/CAC4O/dfCAC_High.csv\",index_col=0)\n",
    "#Data frame CAC40 Low\n",
    "dfC_L = pd.read_csv(\"Data/CAC4O/dfCAC_Low.csv\",index_col=0)\n",
    "#Data frame CAC40 Close\n",
    "dfC_C = pd.read_csv(\"Data/CAC4O/dfCAC_Close.csv\",index_col=0)\n",
    "#Data frame CAC40 Adj Close\n",
    "dfC_AdjC = pd.read_csv(\"Data/CAC4O/dfCAC_AdjClose.csv\",index_col=0)\n",
    "#Data frame CAC40 Volume\n",
    "#dfC_V = pd.read_csv(\"Data/CAC4O/dfCAC_Volume.csv\",index_col=0)\n",
    "\n",
    "#For exemple dfCO = Data Frame CAC4O Open\n",
    "#dfC_O.head()\n",
    "#dfC_H.head()\n",
    "#dfC_L.head()\n",
    "dfC_C.head()\n",
    "#dfC_AdjC.head()"
   ]
  },
  {
   "cell_type": "markdown",
   "metadata": {},
   "source": [
    "## Data Frame Entreprise CAC4O"
   ]
  },
  {
   "cell_type": "code",
   "execution_count": 93,
   "metadata": {
    "scrolled": false
   },
   "outputs": [
    {
     "name": "stdout",
     "output_type": "stream",
     "text": [
      "<class 'pandas.core.frame.DataFrame'>\n",
      "Index: 511 entries, 2017-03-01 to 2019-03-01\n",
      "Data columns (total 40 columns):\n",
      "AC.PA      511 non-null float64\n",
      "ACA.PA     511 non-null float64\n",
      "AI.PA      511 non-null float64\n",
      "AIR.PA     511 non-null float64\n",
      "ATO.PA     511 non-null float64\n",
      "BN.PA      511 non-null float64\n",
      "BNP.PA     511 non-null float64\n",
      "CA.PA      511 non-null float64\n",
      "CAP.PA     511 non-null float64\n",
      "CS.PA      511 non-null float64\n",
      "DG.PA      511 non-null float64\n",
      "DSY.PA     511 non-null float64\n",
      "EL.PA      511 non-null float64\n",
      "EN.PA      511 non-null float64\n",
      "ENGI.PA    511 non-null float64\n",
      "FP.PA      511 non-null float64\n",
      "FR.PA      511 non-null float64\n",
      "FTI.PA     511 non-null float64\n",
      "GLE.PA     511 non-null float64\n",
      "KER.PA     511 non-null float64\n",
      "LR.PA      511 non-null float64\n",
      "MC.PA      511 non-null float64\n",
      "ML.PA      511 non-null float64\n",
      "MT.AS      511 non-null float64\n",
      "OR.PA      511 non-null float64\n",
      "ORA.PA     511 non-null float64\n",
      "PUB.PA     511 non-null float64\n",
      "RI.PA      511 non-null float64\n",
      "RMS.PA     511 non-null float64\n",
      "RNO.PA     511 non-null float64\n",
      "SAF.PA     511 non-null float64\n",
      "SAN.PA     511 non-null float64\n",
      "SGO.PA     511 non-null float64\n",
      "STM.PA     511 non-null float64\n",
      "SU.PA      511 non-null float64\n",
      "SW.PA      511 non-null float64\n",
      "UG.PA      511 non-null float64\n",
      "URW.AS     511 non-null float64\n",
      "VIE.PA     511 non-null float64\n",
      "VIV.PA     511 non-null float64\n",
      "dtypes: float64(40)\n",
      "memory usage: 163.7+ KB\n"
     ]
    },
    {
     "data": {
      "text/html": [
       "<div>\n",
       "<style scoped>\n",
       "    .dataframe tbody tr th:only-of-type {\n",
       "        vertical-align: middle;\n",
       "    }\n",
       "\n",
       "    .dataframe tbody tr th {\n",
       "        vertical-align: top;\n",
       "    }\n",
       "\n",
       "    .dataframe thead th {\n",
       "        text-align: right;\n",
       "    }\n",
       "</style>\n",
       "<table border=\"1\" class=\"dataframe\">\n",
       "  <thead>\n",
       "    <tr style=\"text-align: right;\">\n",
       "      <th></th>\n",
       "      <th>AC.PA</th>\n",
       "      <th>ACA.PA</th>\n",
       "      <th>AI.PA</th>\n",
       "      <th>AIR.PA</th>\n",
       "      <th>ATO.PA</th>\n",
       "      <th>BN.PA</th>\n",
       "      <th>BNP.PA</th>\n",
       "      <th>CA.PA</th>\n",
       "      <th>CAP.PA</th>\n",
       "      <th>CS.PA</th>\n",
       "      <th>DG.PA</th>\n",
       "      <th>DSY.PA</th>\n",
       "      <th>EL.PA</th>\n",
       "      <th>EN.PA</th>\n",
       "      <th>ENGI.PA</th>\n",
       "      <th>FP.PA</th>\n",
       "      <th>FR.PA</th>\n",
       "      <th>FTI.PA</th>\n",
       "      <th>GLE.PA</th>\n",
       "      <th>KER.PA</th>\n",
       "      <th>LR.PA</th>\n",
       "      <th>MC.PA</th>\n",
       "      <th>ML.PA</th>\n",
       "      <th>MT.AS</th>\n",
       "      <th>OR.PA</th>\n",
       "      <th>ORA.PA</th>\n",
       "      <th>PUB.PA</th>\n",
       "      <th>RI.PA</th>\n",
       "      <th>RMS.PA</th>\n",
       "      <th>RNO.PA</th>\n",
       "      <th>SAF.PA</th>\n",
       "      <th>SAN.PA</th>\n",
       "      <th>SGO.PA</th>\n",
       "      <th>STM.PA</th>\n",
       "      <th>SU.PA</th>\n",
       "      <th>SW.PA</th>\n",
       "      <th>UG.PA</th>\n",
       "      <th>URW.AS</th>\n",
       "      <th>VIE.PA</th>\n",
       "      <th>VIV.PA</th>\n",
       "    </tr>\n",
       "    <tr>\n",
       "      <th>Date</th>\n",
       "      <th></th>\n",
       "      <th></th>\n",
       "      <th></th>\n",
       "      <th></th>\n",
       "      <th></th>\n",
       "      <th></th>\n",
       "      <th></th>\n",
       "      <th></th>\n",
       "      <th></th>\n",
       "      <th></th>\n",
       "      <th></th>\n",
       "      <th></th>\n",
       "      <th></th>\n",
       "      <th></th>\n",
       "      <th></th>\n",
       "      <th></th>\n",
       "      <th></th>\n",
       "      <th></th>\n",
       "      <th></th>\n",
       "      <th></th>\n",
       "      <th></th>\n",
       "      <th></th>\n",
       "      <th></th>\n",
       "      <th></th>\n",
       "      <th></th>\n",
       "      <th></th>\n",
       "      <th></th>\n",
       "      <th></th>\n",
       "      <th></th>\n",
       "      <th></th>\n",
       "      <th></th>\n",
       "      <th></th>\n",
       "      <th></th>\n",
       "      <th></th>\n",
       "      <th></th>\n",
       "      <th></th>\n",
       "      <th></th>\n",
       "      <th></th>\n",
       "      <th></th>\n",
       "      <th></th>\n",
       "    </tr>\n",
       "  </thead>\n",
       "  <tbody>\n",
       "    <tr>\n",
       "      <th>2017-03-01</th>\n",
       "      <td>37.494999</td>\n",
       "      <td>11.1222</td>\n",
       "      <td>102.750000</td>\n",
       "      <td>69.690002</td>\n",
       "      <td>111.650002</td>\n",
       "      <td>62.900002</td>\n",
       "      <td>55.889999</td>\n",
       "      <td>22.665001</td>\n",
       "      <td>80.500000</td>\n",
       "      <td>22.490000</td>\n",
       "      <td>68.529999</td>\n",
       "      <td>76.800003</td>\n",
       "      <td>108.85</td>\n",
       "      <td>36.584999</td>\n",
       "      <td>11.565</td>\n",
       "      <td>47.250000</td>\n",
       "      <td>58.830002</td>\n",
       "      <td>30.510000</td>\n",
       "      <td>42.599998</td>\n",
       "      <td>215.072998</td>\n",
       "      <td>53.650002</td>\n",
       "      <td>191.350006</td>\n",
       "      <td>106.550003</td>\n",
       "      <td>25.170000</td>\n",
       "      <td>176.750000</td>\n",
       "      <td>14.360</td>\n",
       "      <td>63.990002</td>\n",
       "      <td>108.500000</td>\n",
       "      <td>414.799988</td>\n",
       "      <td>84.400002</td>\n",
       "      <td>67.500000</td>\n",
       "      <td>81.769997</td>\n",
       "      <td>45.759998</td>\n",
       "      <td>14.470</td>\n",
       "      <td>64.250000</td>\n",
       "      <td>104.000000</td>\n",
       "      <td>18.219999</td>\n",
       "      <td>215.699997</td>\n",
       "      <td>15.500000</td>\n",
       "      <td>16.725000</td>\n",
       "    </tr>\n",
       "    <tr>\n",
       "      <th>2017-03-02</th>\n",
       "      <td>37.540001</td>\n",
       "      <td>11.4593</td>\n",
       "      <td>103.550003</td>\n",
       "      <td>71.160004</td>\n",
       "      <td>111.500000</td>\n",
       "      <td>62.730000</td>\n",
       "      <td>57.910000</td>\n",
       "      <td>22.865000</td>\n",
       "      <td>82.080002</td>\n",
       "      <td>23.170000</td>\n",
       "      <td>69.760002</td>\n",
       "      <td>76.949997</td>\n",
       "      <td>109.20</td>\n",
       "      <td>37.150002</td>\n",
       "      <td>12.000</td>\n",
       "      <td>47.549999</td>\n",
       "      <td>59.470001</td>\n",
       "      <td>31.500000</td>\n",
       "      <td>43.980000</td>\n",
       "      <td>218.141006</td>\n",
       "      <td>54.259998</td>\n",
       "      <td>194.800003</td>\n",
       "      <td>106.849998</td>\n",
       "      <td>26.292000</td>\n",
       "      <td>176.000000</td>\n",
       "      <td>14.435</td>\n",
       "      <td>64.629997</td>\n",
       "      <td>108.650002</td>\n",
       "      <td>417.100006</td>\n",
       "      <td>86.400002</td>\n",
       "      <td>68.199997</td>\n",
       "      <td>82.779999</td>\n",
       "      <td>46.459999</td>\n",
       "      <td>14.775</td>\n",
       "      <td>65.570000</td>\n",
       "      <td>104.699997</td>\n",
       "      <td>18.389999</td>\n",
       "      <td>217.399994</td>\n",
       "      <td>15.800000</td>\n",
       "      <td>16.469999</td>\n",
       "    </tr>\n",
       "    <tr>\n",
       "      <th>2017-03-03</th>\n",
       "      <td>37.340000</td>\n",
       "      <td>11.3822</td>\n",
       "      <td>102.750000</td>\n",
       "      <td>71.570000</td>\n",
       "      <td>110.400002</td>\n",
       "      <td>62.750000</td>\n",
       "      <td>57.700001</td>\n",
       "      <td>22.790001</td>\n",
       "      <td>83.449997</td>\n",
       "      <td>23.195000</td>\n",
       "      <td>69.120003</td>\n",
       "      <td>76.730003</td>\n",
       "      <td>108.05</td>\n",
       "      <td>36.790001</td>\n",
       "      <td>12.725</td>\n",
       "      <td>47.654999</td>\n",
       "      <td>59.290001</td>\n",
       "      <td>31.480000</td>\n",
       "      <td>43.910000</td>\n",
       "      <td>215.445007</td>\n",
       "      <td>53.419998</td>\n",
       "      <td>193.699997</td>\n",
       "      <td>106.949997</td>\n",
       "      <td>25.320000</td>\n",
       "      <td>176.100006</td>\n",
       "      <td>14.250</td>\n",
       "      <td>63.959999</td>\n",
       "      <td>108.849998</td>\n",
       "      <td>419.000000</td>\n",
       "      <td>85.400002</td>\n",
       "      <td>68.730003</td>\n",
       "      <td>82.599998</td>\n",
       "      <td>45.549999</td>\n",
       "      <td>14.770</td>\n",
       "      <td>65.209999</td>\n",
       "      <td>105.000000</td>\n",
       "      <td>18.490000</td>\n",
       "      <td>214.899994</td>\n",
       "      <td>16.150000</td>\n",
       "      <td>16.684999</td>\n",
       "    </tr>\n",
       "    <tr>\n",
       "      <th>2017-03-06</th>\n",
       "      <td>37.250000</td>\n",
       "      <td>11.6807</td>\n",
       "      <td>102.849998</td>\n",
       "      <td>70.650002</td>\n",
       "      <td>110.650002</td>\n",
       "      <td>62.259998</td>\n",
       "      <td>58.990002</td>\n",
       "      <td>22.865000</td>\n",
       "      <td>83.849998</td>\n",
       "      <td>23.545000</td>\n",
       "      <td>70.029999</td>\n",
       "      <td>76.220001</td>\n",
       "      <td>108.40</td>\n",
       "      <td>37.195000</td>\n",
       "      <td>12.800</td>\n",
       "      <td>47.525002</td>\n",
       "      <td>59.660000</td>\n",
       "      <td>30.510000</td>\n",
       "      <td>45.770000</td>\n",
       "      <td>216.375000</td>\n",
       "      <td>53.279999</td>\n",
       "      <td>194.750000</td>\n",
       "      <td>106.300003</td>\n",
       "      <td>25.094999</td>\n",
       "      <td>176.050003</td>\n",
       "      <td>14.400</td>\n",
       "      <td>63.160000</td>\n",
       "      <td>108.250000</td>\n",
       "      <td>417.450012</td>\n",
       "      <td>87.199997</td>\n",
       "      <td>68.669998</td>\n",
       "      <td>83.559998</td>\n",
       "      <td>46.070000</td>\n",
       "      <td>14.700</td>\n",
       "      <td>65.320000</td>\n",
       "      <td>104.650002</td>\n",
       "      <td>20.000000</td>\n",
       "      <td>217.000000</td>\n",
       "      <td>16.200001</td>\n",
       "      <td>16.405001</td>\n",
       "    </tr>\n",
       "    <tr>\n",
       "      <th>2017-03-07</th>\n",
       "      <td>37.349998</td>\n",
       "      <td>11.7000</td>\n",
       "      <td>103.199997</td>\n",
       "      <td>70.940002</td>\n",
       "      <td>110.300003</td>\n",
       "      <td>62.049999</td>\n",
       "      <td>59.000000</td>\n",
       "      <td>22.900000</td>\n",
       "      <td>84.000000</td>\n",
       "      <td>23.575001</td>\n",
       "      <td>70.129997</td>\n",
       "      <td>76.629997</td>\n",
       "      <td>108.70</td>\n",
       "      <td>37.125000</td>\n",
       "      <td>12.835</td>\n",
       "      <td>47.650002</td>\n",
       "      <td>59.480000</td>\n",
       "      <td>30.299999</td>\n",
       "      <td>45.375000</td>\n",
       "      <td>217.908005</td>\n",
       "      <td>52.619999</td>\n",
       "      <td>194.250000</td>\n",
       "      <td>106.800003</td>\n",
       "      <td>24.855000</td>\n",
       "      <td>176.000000</td>\n",
       "      <td>14.470</td>\n",
       "      <td>62.250000</td>\n",
       "      <td>108.349998</td>\n",
       "      <td>419.649994</td>\n",
       "      <td>86.480003</td>\n",
       "      <td>69.050003</td>\n",
       "      <td>82.489998</td>\n",
       "      <td>45.709999</td>\n",
       "      <td>14.500</td>\n",
       "      <td>65.400002</td>\n",
       "      <td>104.949997</td>\n",
       "      <td>19.705000</td>\n",
       "      <td>217.699997</td>\n",
       "      <td>16.315001</td>\n",
       "      <td>16.495001</td>\n",
       "    </tr>\n",
       "  </tbody>\n",
       "</table>\n",
       "</div>"
      ],
      "text/plain": [
       "                AC.PA   ACA.PA       AI.PA     AIR.PA      ATO.PA      BN.PA  \\\n",
       "Date                                                                           \n",
       "2017-03-01  37.494999  11.1222  102.750000  69.690002  111.650002  62.900002   \n",
       "2017-03-02  37.540001  11.4593  103.550003  71.160004  111.500000  62.730000   \n",
       "2017-03-03  37.340000  11.3822  102.750000  71.570000  110.400002  62.750000   \n",
       "2017-03-06  37.250000  11.6807  102.849998  70.650002  110.650002  62.259998   \n",
       "2017-03-07  37.349998  11.7000  103.199997  70.940002  110.300003  62.049999   \n",
       "\n",
       "               BNP.PA      CA.PA     CAP.PA      CS.PA      DG.PA     DSY.PA  \\\n",
       "Date                                                                           \n",
       "2017-03-01  55.889999  22.665001  80.500000  22.490000  68.529999  76.800003   \n",
       "2017-03-02  57.910000  22.865000  82.080002  23.170000  69.760002  76.949997   \n",
       "2017-03-03  57.700001  22.790001  83.449997  23.195000  69.120003  76.730003   \n",
       "2017-03-06  58.990002  22.865000  83.849998  23.545000  70.029999  76.220001   \n",
       "2017-03-07  59.000000  22.900000  84.000000  23.575001  70.129997  76.629997   \n",
       "\n",
       "             EL.PA      EN.PA  ENGI.PA      FP.PA      FR.PA     FTI.PA  \\\n",
       "Date                                                                      \n",
       "2017-03-01  108.85  36.584999   11.565  47.250000  58.830002  30.510000   \n",
       "2017-03-02  109.20  37.150002   12.000  47.549999  59.470001  31.500000   \n",
       "2017-03-03  108.05  36.790001   12.725  47.654999  59.290001  31.480000   \n",
       "2017-03-06  108.40  37.195000   12.800  47.525002  59.660000  30.510000   \n",
       "2017-03-07  108.70  37.125000   12.835  47.650002  59.480000  30.299999   \n",
       "\n",
       "               GLE.PA      KER.PA      LR.PA       MC.PA       ML.PA  \\\n",
       "Date                                                                   \n",
       "2017-03-01  42.599998  215.072998  53.650002  191.350006  106.550003   \n",
       "2017-03-02  43.980000  218.141006  54.259998  194.800003  106.849998   \n",
       "2017-03-03  43.910000  215.445007  53.419998  193.699997  106.949997   \n",
       "2017-03-06  45.770000  216.375000  53.279999  194.750000  106.300003   \n",
       "2017-03-07  45.375000  217.908005  52.619999  194.250000  106.800003   \n",
       "\n",
       "                MT.AS       OR.PA  ORA.PA     PUB.PA       RI.PA      RMS.PA  \\\n",
       "Date                                                                           \n",
       "2017-03-01  25.170000  176.750000  14.360  63.990002  108.500000  414.799988   \n",
       "2017-03-02  26.292000  176.000000  14.435  64.629997  108.650002  417.100006   \n",
       "2017-03-03  25.320000  176.100006  14.250  63.959999  108.849998  419.000000   \n",
       "2017-03-06  25.094999  176.050003  14.400  63.160000  108.250000  417.450012   \n",
       "2017-03-07  24.855000  176.000000  14.470  62.250000  108.349998  419.649994   \n",
       "\n",
       "               RNO.PA     SAF.PA     SAN.PA     SGO.PA  STM.PA      SU.PA  \\\n",
       "Date                                                                        \n",
       "2017-03-01  84.400002  67.500000  81.769997  45.759998  14.470  64.250000   \n",
       "2017-03-02  86.400002  68.199997  82.779999  46.459999  14.775  65.570000   \n",
       "2017-03-03  85.400002  68.730003  82.599998  45.549999  14.770  65.209999   \n",
       "2017-03-06  87.199997  68.669998  83.559998  46.070000  14.700  65.320000   \n",
       "2017-03-07  86.480003  69.050003  82.489998  45.709999  14.500  65.400002   \n",
       "\n",
       "                 SW.PA      UG.PA      URW.AS     VIE.PA     VIV.PA  \n",
       "Date                                                                 \n",
       "2017-03-01  104.000000  18.219999  215.699997  15.500000  16.725000  \n",
       "2017-03-02  104.699997  18.389999  217.399994  15.800000  16.469999  \n",
       "2017-03-03  105.000000  18.490000  214.899994  16.150000  16.684999  \n",
       "2017-03-06  104.650002  20.000000  217.000000  16.200001  16.405001  \n",
       "2017-03-07  104.949997  19.705000  217.699997  16.315001  16.495001  "
      ]
     },
     "execution_count": 93,
     "metadata": {},
     "output_type": "execute_result"
    }
   ],
   "source": [
    "#Data frame Entreprise du CAC40 Open\n",
    "dfE_O= pd.read_csv(\"Data/EntrepriseCAC40/dfEntrepriseCAC_Open.csv\", index_col=0)\n",
    "#Data frame Entreprise du CAC40 High\n",
    "dfE_H= pd.read_csv(\"Data/EntrepriseCAC40/dfEntrepriseCAC_High.csv\", index_col=0)\n",
    "#Data frame Entreprise du CAC40 Low\n",
    "dfE_L= pd.read_csv(\"Data/EntrepriseCAC40/dfEntrepriseCAC_Low.csv\", index_col=0)\n",
    "#Data frame Entreprise du CAC40 Close\n",
    "dfE_C= pd.read_csv(\"Data/EntrepriseCAC40/dfEntrepriseCAC_Close.csv\", index_col=0)\n",
    "#Data frame Entreprise du CAC40 Adj Close\n",
    "dfE_AdjC= pd.read_csv(\"Data/EntrepriseCAC40/dfEntrepriseCAC_AdjClose.csv\", index_col=0)\n",
    "\n",
    "#For exemple dfE_O = Data frame Entreprise du CAC40 Open\n",
    "dfE_O.info()\n",
    "dfE_O.head()\n",
    "#dfE_H.head()\n",
    "#dfE_L.head()\n",
    "#dfE_C.head()\n",
    "#dfE_AdjC.head()"
   ]
  },
  {
   "cell_type": "code",
   "execution_count": 94,
   "metadata": {},
   "outputs": [
    {
     "data": {
      "text/plain": [
       "AC.PA      0\n",
       "ACA.PA     0\n",
       "AI.PA      0\n",
       "AIR.PA     0\n",
       "ATO.PA     0\n",
       "BN.PA      0\n",
       "BNP.PA     0\n",
       "CA.PA      0\n",
       "CAP.PA     0\n",
       "CS.PA      0\n",
       "DG.PA      0\n",
       "DSY.PA     0\n",
       "EL.PA      0\n",
       "EN.PA      0\n",
       "ENGI.PA    0\n",
       "FP.PA      0\n",
       "FR.PA      0\n",
       "FTI.PA     0\n",
       "GLE.PA     0\n",
       "KER.PA     0\n",
       "LR.PA      0\n",
       "MC.PA      0\n",
       "ML.PA      0\n",
       "MT.AS      0\n",
       "OR.PA      0\n",
       "ORA.PA     0\n",
       "PUB.PA     0\n",
       "RI.PA      0\n",
       "RMS.PA     0\n",
       "RNO.PA     0\n",
       "SAF.PA     0\n",
       "SAN.PA     0\n",
       "SGO.PA     0\n",
       "STM.PA     0\n",
       "SU.PA      0\n",
       "SW.PA      0\n",
       "UG.PA      0\n",
       "URW.AS     0\n",
       "VIE.PA     0\n",
       "VIV.PA     0\n",
       "dtype: int64"
      ]
     },
     "execution_count": 94,
     "metadata": {},
     "output_type": "execute_result"
    }
   ],
   "source": [
    "dfE_O.isnull().sum()"
   ]
  },
  {
   "cell_type": "code",
   "execution_count": 95,
   "metadata": {},
   "outputs": [
    {
     "data": {
      "text/plain": [
       "Index(['AC.PA', 'ACA.PA', 'AI.PA', 'AIR.PA', 'ATO.PA', 'BN.PA', 'BNP.PA',\n",
       "       'CA.PA', 'CAP.PA', 'CS.PA', 'DG.PA', 'DSY.PA', 'EL.PA', 'EN.PA',\n",
       "       'ENGI.PA', 'FP.PA', 'FR.PA', 'FTI.PA', 'GLE.PA', 'KER.PA', 'LR.PA',\n",
       "       'MC.PA', 'ML.PA', 'MT.AS', 'OR.PA', 'ORA.PA', 'PUB.PA', 'RI.PA',\n",
       "       'RMS.PA', 'RNO.PA', 'SAF.PA', 'SAN.PA', 'SGO.PA', 'STM.PA', 'SU.PA',\n",
       "       'SW.PA', 'UG.PA', 'URW.AS', 'VIE.PA', 'VIV.PA'],\n",
       "      dtype='object')"
      ]
     },
     "execution_count": 95,
     "metadata": {},
     "output_type": "execute_result"
    }
   ],
   "source": [
    "dfE_C.columns"
   ]
  },
  {
   "cell_type": "markdown",
   "metadata": {},
   "source": [
    "# Phase 1"
   ]
  },
  {
   "cell_type": "markdown",
   "metadata": {},
   "source": [
    "## I) Dans cette deuxième partie, nous allons faire une regression Linéaire"
   ]
  },
  {
   "cell_type": "code",
   "execution_count": 214,
   "metadata": {},
   "outputs": [
    {
     "data": {
      "text/plain": [
       "Text(0, 0.5, 'CAC 40')"
      ]
     },
     "execution_count": 214,
     "metadata": {},
     "output_type": "execute_result"
    },
    {
     "data": {
      "image/png": "[encoded data removed]",
      "text/plain": [
       "<Figure size 432x288 with 1 Axes>"
      ]
     },
     "metadata": {
      "needs_background": "light"
     },
     "output_type": "display_data"
    }
   ],
   "source": [
    "\n",
    "#On prend les valeurs d'une des entreprises du CAC40\n",
    "X_ = dfE_C['AC.PA'].values #Dans cette exemple ici nous allons prendre les valeurs de accor hotels\n",
    "#On prend les valeur CAC 40\n",
    "Y_ = dfC_C['^FCHI'].values\n",
    "\n",
    "import numpy as np\n",
    "i = int(X_.shape[0]*0.7)\n",
    "X_ = X_.reshape(-1,1)\n",
    "Y_ = Y_.reshape(-1,1)\n",
    "X_train = X_[:i]\n",
    "Y_train = Y_[:i]\n",
    "X_test = X_[i:]\n",
    "Y_test = Y_[i:]\n",
    "#On peut voir les config ici pour la variable X\n",
    "X_.shape\n",
    "from sklearn.linear_model import LinearRegression\n",
    "lr = LinearRegression(normalize=True)\n",
    "\n",
    "from sklearn.preprocessing import StandardScaler\n",
    "#On va créer deux objet normaliser\n",
    "#Deux ici car un pour le feature et l'autre pour la target value\n",
    "\n",
    "sc_X = StandardScaler()\n",
    "sc_Y = StandardScaler()\n",
    "\n",
    "X_std = sc_X.fit_transform(X_)\n",
    "Y_std = sc_Y.fit_transform(Y_)\n",
    "\n",
    "lr.fit(X_std, Y_std)\n",
    "\n",
    "pred_std = lr.predict(X_std)\n",
    "lr.score(X_std,Y_std)\n",
    "pred = sc_Y.inverse_transform(pred_std)\n",
    "\n",
    "lr.coef_\n",
    "lr.intercept_\n",
    "\n",
    "import matplotlib.pyplot as plt\n",
    "%matplotlib inline\n",
    "\n",
    "\n",
    "plt.scatter(X_, Y_, c='green', edgecolor='white', s=50)\n",
    "plt.plot(X_, pred, color='red', lw=2)\n",
    "plt.xlabel('Valeur Accord Hotel')\n",
    "plt.ylabel('CAC 40')"
   ]
  },
  {
   "cell_type": "code",
   "execution_count": 97,
   "metadata": {},
   "outputs": [
    {
     "name": "stdout",
     "output_type": "stream",
     "text": [
      "(511, 1)\n",
      "(511, 40)\n"
     ]
    }
   ],
   "source": [
    "###Regression Lineraire \n",
    "\n",
    "#La régression linéaire s’appuie sur l’hypothèse que les données proviennent d’un phénomène \n",
    "#qui à la forme d'une droite \n",
    "#c’est à dire qu’il existe une relation linéaire entre l’entrée X (les observations) \n",
    "#et la sortie Y (les prédictions).\n",
    "\n",
    "#Fait partie des algorithmes d'apprenstissages supervises\n",
    "\n",
    "#Modele:\n",
    "\n",
    "# Y = Xβ + c + ϵ\n",
    " \n",
    "# X : data / observations\n",
    "# β :coefficients \n",
    "# c : intercept \n",
    "# ϵ : error, cannot be explained by model \n",
    "# y : target / prédictions\n",
    "\n",
    "#Using scikit-learn, linear regression \n",
    "#Sperate train and test data\n",
    "\n",
    "#Linear Regression model prediction \n",
    "# ŷ = θ0 +θ1x1 +θ2x2 +⋯+θnxn\n",
    "\n",
    "#• ŷ is the predicted value.\n",
    "#• n is the number of features.\n",
    "#• xi is the ith feature value.\n",
    "#• θj is the jth model parameter (including the bias term θ0 and the feature weights θ1, θ2, ⋯, θn).\n",
    "\n",
    "\n",
    "#Linear Regression model prediction (vectorized form)\n",
    "\n",
    "#y = Hθ(X) + θT·X\n",
    "\n",
    "#• θ is the model’s parameter vector, containing the bias term θ0 and the feature weights θ1 to θn.\n",
    "#• θT is the transpose of θ (a row vector instead of a column vector).\n",
    "#• x is the instance’s feature vector, containing x0 to xn, with x0 always equal to 1.\n",
    "#• θT · x is the dot product of θT and x.\n",
    "#• hθ is the hypothesis function, using the model parameters θ.\n",
    "\n",
    "\n",
    "#Normal Equation\n",
    "#θ = (XT·X)^(-1)·XT·y\n",
    "\n",
    "#• θ is the value of θ that minimizes the cost function. \n",
    "#• y is the vector of target values containing y(1) to y(m).\n",
    "\n",
    "#from sklearn.linear_model import LinearRegression \n",
    "#>>> lin_reg = LinearRegression()\n",
    "#>>> lin_reg.fit(X, y)\n",
    "#>>> lin_reg.intercept_, lin_reg.coef_\n",
    "#>>> lin_reg.predict(X_new)\n",
    "\n",
    "import pandas as pd\n",
    "import numpy as np\n",
    "\n",
    "\n",
    "# Effectuer une Régression Linéaire Simple sur les cours du CAC40 \n",
    "# + determination des coefficients du CAC40 \n",
    "\n",
    "CAC40 = pd.read_csv(\"Data/CAC4O/dfCAC_Close.csv\",index_col=0)\n",
    "Entreprises = pd.read_csv(\"Data/EntrepriseCAC40/dfEntrepriseCAC_Close.csv\", index_col=0)\n",
    "\n",
    "Y = CAC40\n",
    "X = Entreprises\n",
    "\n",
    "print(Y.shape)\n",
    "print(X.shape)"
   ]
  },
  {
   "cell_type": "code",
   "execution_count": 98,
   "metadata": {},
   "outputs": [],
   "source": [
    "from sklearn import linear_model\n",
    "\n",
    "model = linear_model.LinearRegression()"
   ]
  },
  {
   "cell_type": "code",
   "execution_count": 99,
   "metadata": {},
   "outputs": [],
   "source": [
    "from sklearn.preprocessing import StandardScaler\n",
    "Regression = model.fit(X,Y)"
   ]
  },
  {
   "cell_type": "code",
   "execution_count": 100,
   "metadata": {},
   "outputs": [
    {
     "name": "stdout",
     "output_type": "stream",
     "text": [
      "[[ 1.57019683  1.86096089  1.92643861  2.73966377  0.62667928  3.51863455\n",
      "   5.51340438  4.24221788  0.53803462 11.25831717  1.12932258  0.13894254\n",
      "   0.86083365  1.16665847  8.36191931 10.77313143  1.08887374  2.22073451\n",
      "   3.64120141  0.43680033  2.12739254  1.22792115  0.76852253  2.79811396\n",
      "   1.07062929  8.35823077  0.78931162  1.12919717  0.02979615  0.82614077\n",
      "   1.450381    5.58950856  2.67537723  3.1822302   1.99338345  0.35881108\n",
      "   3.00852097  0.57725817  2.84312517  5.65964328]]\n"
     ]
    }
   ],
   "source": [
    "print(Regression.coef_) #Determination des coefficients du CAC40 "
   ]
  },
  {
   "cell_type": "code",
   "execution_count": 101,
   "metadata": {},
   "outputs": [
    {
     "name": "stdout",
     "output_type": "stream",
     "text": [
      "[-46.72350849]\n"
     ]
    }
   ],
   "source": [
    "print(Regression.intercept_) # intercept"
   ]
  },
  {
   "cell_type": "code",
   "execution_count": 102,
   "metadata": {},
   "outputs": [
    {
     "name": "stdout",
     "output_type": "stream",
     "text": [
      "(1, 40)\n"
     ]
    }
   ],
   "source": [
    "print(Regression.coef_.shape) # Pour la Target Y (CAC40), 40 features/observations X (40 Entrepises du Cac40)"
   ]
  },
  {
   "cell_type": "code",
   "execution_count": 103,
   "metadata": {},
   "outputs": [
    {
     "name": "stdout",
     "output_type": "stream",
     "text": [
      "(20, 1)\n",
      "(20, 40)\n"
     ]
    }
   ],
   "source": [
    "#Phase 1. \n",
    "\n",
    "# Effectuer une Régression Linéaire Simple sur les cours du CAC40 \n",
    "# en prenant les 20 dernières valeurs comme caractéristique.\n",
    "\n",
    "CAC40 = pd.read_csv(\"Data/CAC4O/dfCAC_Close.csv\",index_col=0,header=491)\n",
    "Entreprises = pd.read_csv(\"Data/EntrepriseCAC40/dfEntrepriseCAC_Close.csv\", index_col=0,header=491)\n",
    "\n",
    "Y = CAC40\n",
    "X = Entreprises\n",
    "\n",
    "print(Y.shape)\n",
    "print(X.shape)\n",
    "\n",
    "from sklearn import linear_model\n",
    "\n",
    "model = linear_model.LinearRegression()\n",
    "\n",
    "from sklearn.preprocessing import StandardScaler\n",
    "Regression = model.fit(X,Y)\n"
   ]
  },
  {
   "cell_type": "code",
   "execution_count": 104,
   "metadata": {},
   "outputs": [
    {
     "name": "stdout",
     "output_type": "stream",
     "text": [
      "[[ 1.35208346e+00  1.17356736e+00  9.40203645e-02  6.27060373e+00\n",
      "  -2.72453646e+00  1.63808774e+00  4.64799857e+00  5.97707618e-01\n",
      "  -2.44053497e+00  4.06286283e-01  3.93148146e+00  2.00566955e+00\n",
      "   5.41590715e+00  2.14975781e+00 -5.34180398e-01  3.98948854e+00\n",
      "   1.51711271e+00  2.03787722e+00 -1.90484195e-01  1.24186222e-01\n",
      "   1.08546043e+00  1.93851961e+00  1.90129838e-01  4.35165308e-03\n",
      "   9.07795421e-01  1.25184911e+00  1.98319700e+00  3.05133865e-01\n",
      "   9.58461711e-01  5.10277030e+00  2.82378293e+00  4.06410733e+00\n",
      "   7.14982398e-01 -1.06283161e+00  3.83052439e+00 -3.91409138e+00\n",
      "   1.26273440e+00 -5.35661341e-01 -1.74482084e-01  4.40664938e+00]]\n",
      "[577.60786204]\n",
      "(1, 40)\n"
     ]
    }
   ],
   "source": [
    "print(Regression.coef_) #Determination des coefficients du CAC40 \n",
    "print(Regression.intercept_) #\n",
    "print(Regression.coef_.shape) # Pour la Target Y (CAC40), 40 features/observations X (40 Entrepises du Cac40)"
   ]
  },
  {
   "cell_type": "markdown",
   "metadata": {},
   "source": [
    "# Phase 2"
   ]
  },
  {
   "cell_type": "code",
   "execution_count": 105,
   "metadata": {},
   "outputs": [
    {
     "name": "stdout",
     "output_type": "stream",
     "text": [
      "R2 on test data: 0.61\n"
     ]
    }
   ],
   "source": [
    "#Faisons ensuite une metrique grâce a cette bibliothèque:\n",
    "from sklearn.metrics import r2_score\n",
    "#On va caculer r^2\n",
    "#on va utilise cette fontion r2_score avec notre\n",
    "#variable cible et la prediction\n",
    "r3 = r2_score(X_std, Y_std)\n",
    "# Pour le resultat on va mettre 2 decimal\n",
    "print(\"R2 on test data: {:.2}\".format(r3))"
   ]
  },
  {
   "cell_type": "code",
   "execution_count": 106,
   "metadata": {},
   "outputs": [
    {
     "data": {
      "text/plain": [
       "array([[0.80622496]])"
      ]
     },
     "execution_count": 106,
     "metadata": {},
     "output_type": "execute_result"
    }
   ],
   "source": [
    "lr.coef_"
   ]
  },
  {
   "cell_type": "code",
   "execution_count": 107,
   "metadata": {},
   "outputs": [
    {
     "data": {
      "text/plain": [
       "array([1.28637504e-15])"
      ]
     },
     "execution_count": 107,
     "metadata": {},
     "output_type": "execute_result"
    }
   ],
   "source": [
    "lr.intercept_"
   ]
  },
  {
   "cell_type": "code",
   "execution_count": 108,
   "metadata": {},
   "outputs": [
    {
     "data": {
      "text/plain": [
       "(1, 40)"
      ]
     },
     "execution_count": 108,
     "metadata": {},
     "output_type": "execute_result"
    }
   ],
   "source": [
    "\n",
    "#determination des coefficients : \n",
    "CAC40 = pd.read_csv(\"Data/CAC4O/dfCAC_Close.csv\",index_col=0)\n",
    "ENTREPRISES= pd.read_csv(\"Data/EntrepriseCAC40/dfEntrepriseCAC_Close.csv\", index_col=0)\n",
    "CAC40.shape\n",
    "ENTREPRISES.shape\n",
    "\n",
    "\n",
    "#from sklearn import linear_model\n",
    "\n",
    "#model = linear_model.LinearRegression()\n",
    "model = LinearRegression()\n",
    "\n",
    "\n",
    "Regression_TOT = model.fit(ENTREPRISES, CAC40)\n",
    "Regression_TOT.coef_\n",
    "Regression_TOT.intercept_\n",
    "Regression_TOT.coef_.shape\n",
    "\n",
    "# lr.score(ENTREPRISES,CAC40)\n",
    "# pred = sc_Y.inverse_transform(pred_std)"
   ]
  },
  {
   "cell_type": "code",
   "execution_count": 109,
   "metadata": {},
   "outputs": [
    {
     "name": "stdout",
     "output_type": "stream",
     "text": [
      "(20, 1)\n",
      "(20, 40)\n"
     ]
    }
   ],
   "source": [
    "\n",
    "import pandas as pd\n",
    "import numpy as np\n",
    "\n",
    "#Prend les 20 derniers valeurs du CAC40, en commencant par la ligne 491/511 jusqu'à la ligne 511/511\n",
    "dfEntreprises_C20 = pd.read_csv(\"Data/EntrepriseCAC40/dfEntrepriseCAC_Close.csv\", index_col=0, header=491)\n",
    "dfCAC40_C20 = pd.read_csv(\"Data/CAC4O/dfCAC_Close.csv\",index_col=0,header=491)\n",
    "\n",
    "dfEntreprises_C20.isnull().any()\n",
    "#verifie qu'il n'y a aucune valeur Nan dans les données\n",
    "    \n",
    "Entreprises = dfEntreprises_C20.values\n",
    "CAC40 = dfCAC40_C20.values\n",
    "\n",
    "print(CAC40.shape)\n",
    "print(Entreprises.shape)\n",
    "\n"
   ]
  },
  {
   "cell_type": "code",
   "execution_count": 110,
   "metadata": {},
   "outputs": [
    {
     "name": "stdout",
     "output_type": "stream",
     "text": [
      "[[ 1.18064096  1.35010892  1.78358927  7.51471631  0.41236084  2.04516173\n",
      "   3.39186004  0.31957981 -0.79786174  0.76836713  0.89046119  1.13526636\n",
      "   3.69010585  0.66044553 -0.01885769  1.56421477  3.73332714  4.09679237\n",
      "   2.38796192 -0.14199986 -0.67210167  2.89369848  1.89114313  1.8741931\n",
      "   0.65499491  0.27516011  1.64374956  4.91992797 -0.01792048  1.68090723\n",
      "   1.06928925  3.79855243  2.22380031 -0.3529395   1.98350465 -1.27874817\n",
      "   0.8115405   0.51100702  0.16243572  1.58129699]]\n"
     ]
    }
   ],
   "source": [
    "# On va entrainer notre modèle avec 70% des données\n",
    "i = int(CAC40.shape[0]*0.7) \n",
    "\n",
    "CAC40 = CAC40.reshape(-1,1)\n",
    "\n",
    "CAC40_train = CAC40[:i]\n",
    "CAC40_train.shape\n",
    "\n",
    "Entreprises_train = Entreprises[:i]\n",
    "Entreprises_train.shape\n",
    "\n",
    "#le CAC 40 est notre target Y\n",
    "\n",
    "CAC40_TEST = CAC40[i:]\n",
    "CAC40_TEST.shape\n",
    "\n",
    "Entreprises_TEST = Entreprises[i:]\n",
    "Entreprises_TEST.shape\n",
    "\n",
    "\n",
    "from sklearn.linear_model import LinearRegression\n",
    "from sklearn.preprocessing import StandardScaler\n",
    "from sklearn import linear_model\n",
    "\n",
    "model = linear_model.LinearRegression()\n",
    "\n",
    "resultstrain = model.fit(Entreprises_train, CAC40_train)\n",
    "\n",
    "print(resultstrain.coef_)"
   ]
  },
  {
   "cell_type": "code",
   "execution_count": 111,
   "metadata": {},
   "outputs": [
    {
     "name": "stdout",
     "output_type": "stream",
     "text": [
      "1.0\n"
     ]
    }
   ],
   "source": [
    "from sklearn.metrics import mean_squared_error\n",
    "from sklearn.metrics import r2_score\n",
    "\n",
    "print(model.score(Entreprises_train, CAC40_train))\n",
    "#1 au maximum pour le score"
   ]
  },
  {
   "cell_type": "code",
   "execution_count": 112,
   "metadata": {},
   "outputs": [
    {
     "name": "stdout",
     "output_type": "stream",
     "text": [
      "(1, 40)\n"
     ]
    }
   ],
   "source": [
    "print(resultstrain.coef_.shape)"
   ]
  },
  {
   "cell_type": "code",
   "execution_count": 113,
   "metadata": {},
   "outputs": [
    {
     "name": "stdout",
     "output_type": "stream",
     "text": [
      "(6, 40)\n"
     ]
    }
   ],
   "source": [
    "print(Entreprises_TEST.shape)"
   ]
  },
  {
   "cell_type": "code",
   "execution_count": 114,
   "metadata": {},
   "outputs": [
    {
     "name": "stdout",
     "output_type": "stream",
     "text": [
      "[211.54254924]\n"
     ]
    }
   ],
   "source": [
    "print(resultstrain.intercept_)"
   ]
  },
  {
   "cell_type": "code",
   "execution_count": 115,
   "metadata": {},
   "outputs": [
    {
     "name": "stdout",
     "output_type": "stream",
     "text": [
      "[[ 1.18064096  1.35010892  1.78358927  7.51471631  0.41236084  2.04516173\n",
      "   3.39186004  0.31957981 -0.79786174  0.76836713  0.89046119  1.13526636\n",
      "   3.69010585  0.66044553 -0.01885769  1.56421477  3.73332714  4.09679237\n",
      "   2.38796192 -0.14199986 -0.67210167  2.89369848  1.89114313  1.8741931\n",
      "   0.65499491  0.27516011  1.64374956  4.91992797 -0.01792048  1.68090723\n",
      "   1.06928925  3.79855243  2.22380031 -0.3529395   1.98350465 -1.27874817\n",
      "   0.8115405   0.51100702  0.16243572  1.58129699]]\n"
     ]
    }
   ],
   "source": [
    "CAC40_pred = model.predict(Entreprises_TEST)\n",
    "CAC40_pred.shape\n",
    "\n",
    "print(model.coef_)"
   ]
  },
  {
   "cell_type": "code",
   "execution_count": 116,
   "metadata": {},
   "outputs": [
    {
     "data": {
      "text/plain": [
       "(20, 1)"
      ]
     },
     "execution_count": 116,
     "metadata": {},
     "output_type": "execute_result"
    }
   ],
   "source": [
    "CAC40.shape"
   ]
  },
  {
   "cell_type": "code",
   "execution_count": 117,
   "metadata": {},
   "outputs": [
    {
     "data": {
      "text/plain": [
       "(511, 40)"
      ]
     },
     "execution_count": 117,
     "metadata": {},
     "output_type": "execute_result"
    }
   ],
   "source": [
    "ENTREPRISES.shape"
   ]
  },
  {
   "cell_type": "code",
   "execution_count": 118,
   "metadata": {},
   "outputs": [
    {
     "data": {
      "text/plain": [
       "(1, 40)"
      ]
     },
     "execution_count": 118,
     "metadata": {},
     "output_type": "execute_result"
    }
   ],
   "source": [
    "Regression_TOT.coef_.shape"
   ]
  },
  {
   "cell_type": "code",
   "execution_count": 119,
   "metadata": {},
   "outputs": [
    {
     "data": {
      "text/plain": [
       "array([-46.72350849])"
      ]
     },
     "execution_count": 119,
     "metadata": {},
     "output_type": "execute_result"
    }
   ],
   "source": [
    "Regression_TOT.intercept_"
   ]
  },
  {
   "cell_type": "code",
   "execution_count": 120,
   "metadata": {},
   "outputs": [
    {
     "data": {
      "text/plain": [
       "array([[ 1.57019683,  1.86096089,  1.92643861,  2.73966377,  0.62667928,\n",
       "         3.51863455,  5.51340438,  4.24221788,  0.53803462, 11.25831717,\n",
       "         1.12932258,  0.13894254,  0.86083365,  1.16665847,  8.36191931,\n",
       "        10.77313143,  1.08887374,  2.22073451,  3.64120141,  0.43680033,\n",
       "         2.12739254,  1.22792115,  0.76852253,  2.79811396,  1.07062929,\n",
       "         8.35823077,  0.78931162,  1.12919717,  0.02979615,  0.82614077,\n",
       "         1.450381  ,  5.58950856,  2.67537723,  3.1822302 ,  1.99338345,\n",
       "         0.35881108,  3.00852097,  0.57725817,  2.84312517,  5.65964328]])"
      ]
     },
     "execution_count": 120,
     "metadata": {},
     "output_type": "execute_result"
    }
   ],
   "source": [
    "Regression_TOT.coef_"
   ]
  },
  {
   "cell_type": "code",
   "execution_count": 121,
   "metadata": {},
   "outputs": [
    {
     "name": "stdout",
     "output_type": "stream",
     "text": [
      "[('AC.PA', array([0.80622496]))]\n"
     ]
    }
   ],
   "source": [
    "# print(list(zip(ENTREPRISES, lr.coef_)))\n",
    "print(list(zip(ENTREPRISES, lr.coef_)))"
   ]
  },
  {
   "cell_type": "code",
   "execution_count": 122,
   "metadata": {},
   "outputs": [
    {
     "data": {
      "text/plain": [
       "Index(['AC.PA', 'ACA.PA', 'AI.PA', 'AIR.PA', 'ATO.PA', 'BN.PA', 'BNP.PA',\n",
       "       'CA.PA', 'CAP.PA', 'CS.PA', 'DG.PA', 'DSY.PA', 'EL.PA', 'EN.PA',\n",
       "       'ENGI.PA', 'FP.PA', 'FR.PA', 'FTI.PA', 'GLE.PA', 'KER.PA', 'LR.PA',\n",
       "       'MC.PA', 'ML.PA', 'MT.AS', 'OR.PA', 'ORA.PA', 'PUB.PA', 'RI.PA',\n",
       "       'RMS.PA', 'RNO.PA', 'SAF.PA', 'SAN.PA', 'SGO.PA', 'STM.PA', 'SU.PA',\n",
       "       'SW.PA', 'UG.PA', 'URW.AS', 'VIE.PA', 'VIV.PA'],\n",
       "      dtype='object')"
      ]
     },
     "execution_count": 122,
     "metadata": {},
     "output_type": "execute_result"
    }
   ],
   "source": [
    "ENTREPRISES.columns"
   ]
  },
  {
   "cell_type": "code",
   "execution_count": 123,
   "metadata": {},
   "outputs": [],
   "source": [
    "# #Faisons ensuite une metrique grâce a cette bibliothèque:\n",
    "# from sklearn.metrics import r2_score\n",
    "# #On va caculer r^2\n",
    "# #on va utilise cette fontion r2_score avec notre\n",
    "# #variable cible et la prediction\n",
    "# r2 = r2_score(CAC40, pred)\n",
    "# # Pour le resultat on va mettre 2 decimal\n",
    "# print(\"R2 on test data: {:.2}\".format(r2))"
   ]
  },
  {
   "cell_type": "code",
   "execution_count": 124,
   "metadata": {},
   "outputs": [],
   "source": [
    "# print(mean_squared_error(CAC40_TEST, CAC40_pred))\n",
    "# #erreur quadratique moyenne d’un estimateur θ\n",
    "# #en fonction du biais et de la variance de l’estimateur"
   ]
  },
  {
   "cell_type": "code",
   "execution_count": 125,
   "metadata": {},
   "outputs": [],
   "source": [
    "# print(r2_score(CAC40_TEST, CAC40_pred))\n",
    "# #coefficient de détermination, noté r2, \n",
    "# #est une mesure de la qualité de la prédiction d'une régression linéaire."
   ]
  },
  {
   "cell_type": "markdown",
   "metadata": {},
   "source": [
    "# Phase 3"
   ]
  },
  {
   "cell_type": "code",
   "execution_count": 126,
   "metadata": {},
   "outputs": [
    {
     "name": "stdout",
     "output_type": "stream",
     "text": [
      "(511, 4)\n",
      "(511, 161)\n"
     ]
    }
   ],
   "source": [
    "###Regression Lineraire Multiple\n",
    "#Finalement c'est pas ça... il faut des sorties multiples, pour predire j+1, j+2 etc.\n",
    "\n",
    "import pandas as pd\n",
    "import numpy as np\n",
    "\n",
    "#determination des coefficients : \n",
    "CAC40_Close = pd.read_csv(\"Data/CAC4O/dfCAC_Close.csv\",index_col=0)\n",
    "CAC40_Open = pd.read_csv(\"Data/CAC4O/dfCAC_Open.csv\",index_col=0)\n",
    "CAC40_High = pd.read_csv(\"Data/CAC4O/dfCAC_High.csv\",index_col=0)\n",
    "CAC40_Low = pd.read_csv(\"Data/CAC4O/dfCAC_Low.csv\",index_col=0)\n",
    "\n",
    "Entreprises_Close = pd.read_csv(\"Data/EntrepriseCAC40/dfEntrepriseCAC_Close.csv\", index_col=0)\n",
    "Entreprises_Open = pd.read_csv(\"Data/EntrepriseCAC40/dfEntrepriseCAC_Open.csv\", index_col=0)\n",
    "Entreprises_High = pd.read_csv(\"Data/EntrepriseCAC40/dfEntrepriseCAC_High.csv\", index_col=0)\n",
    "Entreprises_Low = pd.read_csv(\"Data/EntrepriseCAC40/dfEntrepriseCAC_Low.csv\", index_col=0)\n",
    "\n",
    "CAC40_Multiple = np.concatenate((CAC40_Close, CAC40_Open, CAC40_High, CAC40_Low), axis=1)\n",
    "Entreprises_Multiple = np.concatenate((Entreprises_Close, Entreprises_Open, Entreprises_High, Entreprises_Low), axis=1)\n",
    "\n",
    "print(CAC40_Multiple.shape)\n",
    "print(Entreprises_Multiple.shape)"
   ]
  },
  {
   "cell_type": "code",
   "execution_count": 127,
   "metadata": {},
   "outputs": [],
   "source": [
    "from sklearn import linear_model\n",
    "\n",
    "model = linear_model.LinearRegression()"
   ]
  },
  {
   "cell_type": "code",
   "execution_count": 128,
   "metadata": {},
   "outputs": [
    {
     "name": "stdout",
     "output_type": "stream",
     "text": [
      "[-42.11742716 -73.73467651 -72.40088689 -54.35069335]\n",
      "(4, 161)\n"
     ]
    }
   ],
   "source": [
    "from sklearn.preprocessing import StandardScaler\n",
    "\n",
    "Regression = model.fit(Entreprises_Multiple, CAC40_Multiple)\n",
    "\n",
    "#print(Regression.coef_) #Ponderation des entreprises du Cac40 pour les 4 Features X (Cours de Fermeture, Ouverture, Haut, Bas)\n",
    "\n",
    "print(Regression.intercept_) #\n",
    "print(Regression.coef_.shape) \n",
    "# Pour 4 Targets Y (Cours de Fermeture, Ouverture, Haut, Bas)\n",
    "# 40 x 4 = 160 Features X (Cours de Fermeture, Ouverture, Haut, Bas)"
   ]
  },
  {
   "cell_type": "code",
   "execution_count": 129,
   "metadata": {},
   "outputs": [
    {
     "name": "stdout",
     "output_type": "stream",
     "text": [
      "[[ 1.18064096  1.35010892  1.78358927  7.51471631  0.41236084  2.04516173\n",
      "   3.39186004  0.31957981 -0.79786174  0.76836713  0.89046119  1.13526636\n",
      "   3.69010585  0.66044553 -0.01885769  1.56421477  3.73332714  4.09679237\n",
      "   2.38796192 -0.14199986 -0.67210167  2.89369848  1.89114313  1.8741931\n",
      "   0.65499491  0.27516011  1.64374956  4.91992797 -0.01792048  1.68090723\n",
      "   1.06928925  3.79855243  2.22380031 -0.3529395   1.98350465 -1.27874817\n",
      "   0.8115405   0.51100702  0.16243572  1.58129699]]\n"
     ]
    }
   ],
   "source": [
    "# On va entrainer notre modèle avec 70% des données\n",
    "i = int(CAC40.shape[0]*0.7)\n",
    "\n",
    "#### ???? faire avec un vecteur i ? ou utiliser i,k,l,m ?\n",
    "#i = int(CAC40.shape[0]*0.7) #Close\n",
    "#k = int(CAC40.shape[1]*0.7) #\n",
    "#l = int(CAC40.shape[2]*0.7)\n",
    "#m = int(CAC40.shape[3]*0.7)\n",
    "\n",
    "CAC40 = CAC40.reshape(-1,1)\n",
    "\n",
    "CAC40_train = CAC40[:i]\n",
    "CAC40_train.shape\n",
    "\n",
    "Entreprises_train = Entreprises[:i]\n",
    "Entreprises_train.shape\n",
    "\n",
    "#le CAC 40 est notre target Y\n",
    "\n",
    "CAC40_TEST = CAC40[i:]\n",
    "CAC40_TEST.shape\n",
    "\n",
    "Entreprises_TEST = Entreprises[i:]\n",
    "Entreprises_TEST.shape\n",
    "\n",
    "\n",
    "from sklearn.linear_model import LinearRegression\n",
    "from sklearn.preprocessing import StandardScaler\n",
    "from sklearn import linear_model\n",
    "\n",
    "model = linear_model.LinearRegression()\n",
    "\n",
    "resultstrain = model.fit(Entreprises_train, CAC40_train)\n",
    "\n",
    "print(resultstrain.coef_)"
   ]
  },
  {
   "cell_type": "code",
   "execution_count": 130,
   "metadata": {},
   "outputs": [
    {
     "name": "stdout",
     "output_type": "stream",
     "text": [
      "(20, 4)\n",
      "(20, 161)\n"
     ]
    }
   ],
   "source": [
    "#Phase 3. \n",
    "\n",
    "# Effectuer une Régression Linéaire Multiple \n",
    "# sur les cours du CAC40 \n",
    "# en prenant les 20 dernières valeurs comme caractéristique.\n",
    "\n",
    "#faire du multi sortie (jour +1, +2, +3)\n",
    "#tendance jour -1, -2, -3\n",
    "\n",
    "\n",
    "#Prend les 20 derniers valeurs du CAC40 (Fermeture, Ouverture, Haut, Bas),\n",
    "#en commencant par la ligne 491/511 jusqu'à la ligne 511/511\n",
    "\n",
    "CAC40_Close_20 = pd.read_csv(\"Data/CAC4O/dfCAC_Close.csv\",index_col=0,header=491)\n",
    "CAC40_Open_20 = pd.read_csv(\"Data/CAC4O/dfCAC_Open.csv\",index_col=0,header=491)\n",
    "CAC40_High_20 = pd.read_csv(\"Data/CAC4O/dfCAC_High.csv\",index_col=0,header=491)\n",
    "CAC40_Low_20 = pd.read_csv(\"Data/CAC4O/dfCAC_Low.csv\",index_col=0,header=491)\n",
    "\n",
    "Entreprises_Close_20 = pd.read_csv(\"Data/EntrepriseCAC40/dfEntrepriseCAC_Close.csv\", index_col=0,header=491)\n",
    "Entreprises_Open_20 = pd.read_csv(\"Data/EntrepriseCAC40/dfEntrepriseCAC_Open.csv\", index_col=0,header=491)\n",
    "Entreprises_High_20 = pd.read_csv(\"Data/EntrepriseCAC40/dfEntrepriseCAC_High.csv\", index_col=0,header=491)\n",
    "Entreprises_Low_20 = pd.read_csv(\"Data/EntrepriseCAC40/dfEntrepriseCAC_Low.csv\", index_col=0,header=491)\n",
    "\n",
    "CAC40_Multiple_20 = np.concatenate((CAC40_Close_20.values, CAC40_Open_20.values, CAC40_High_20.values, CAC40_Low_20.values), axis=1)\n",
    "Entreprises_Multiple_20 = np.concatenate((Entreprises_Close_20.values, \n",
    "                                       Entreprises_Open_20.values, Entreprises_High_20.values, Entreprises_Low_20.values), axis=1)\n",
    "\n",
    "# Entreprises_Close_20.isnull().any()\n",
    "# Entreprises_Open_20.isnull().any()\n",
    "# Entreprises_High_20.isnull().any()\n",
    "# Entreprises_Low_20.isnull().any()\n",
    "\n",
    "#Verifie qu'il n'y a aucune valeur Nan dans les données\n",
    "    \n",
    "Entreprises = Entreprises_Multiple_20\n",
    "CAC40 = CAC40_Multiple_20\n",
    "\n",
    "print(CAC40.shape)\n",
    "print(Entreprises.shape)\n"
   ]
  },
  {
   "cell_type": "markdown",
   "metadata": {},
   "source": [
    "# Affichage des Cours"
   ]
  },
  {
   "cell_type": "code",
   "execution_count": 131,
   "metadata": {},
   "outputs": [],
   "source": [
    "# visualization libraries\n",
    "import matplotlib.pyplot as plt\n",
    "import seaborn as sns\n",
    "\n",
    "\n",
    "# print the graphs in the notebook\n",
    "%matplotlib inline\n",
    "\n",
    "# set seaborn style to white\n",
    "sns.set_style(\"white\")"
   ]
  },
  {
   "cell_type": "code",
   "execution_count": 165,
   "metadata": {},
   "outputs": [],
   "source": [
    "# cours des entreprises du CAC pour la close\n",
    "from os import path\n",
    "\n",
    "path = \"Data/Image/Les cours de chaque enteprise du CAC40/\"\n",
    "def plot_df(col):\n",
    "    plt.figure(figsize=(17, 8))\n",
    "    plt.plot(dfE_C[col])\n",
    "    plt.xlabel('Time')\n",
    "    plt.ylabel(col)\n",
    "    plt.grid(False)\n",
    "    plt.savefig(path+col+'.png')                \n",
    "    plt.show()\n",
    "    "
   ]
  },
  {
   "cell_type": "code",
   "execution_count": 160,
   "metadata": {},
   "outputs": [],
   "source": [
    "#lancer la fonction pour afficher et enregistrer les cours \n",
    "# for col in dfE_C.columns:\n",
    "#     plot_df(col)"
   ]
  },
  {
   "cell_type": "code",
   "execution_count": 164,
   "metadata": {},
   "outputs": [
    {
     "data": {
      "image/png": "[encoded data removed]",
      "text/plain": [
       "<IPython.core.display.Image object>"
      ]
     },
     "execution_count": 164,
     "metadata": {
      "image/png": {
       "width": 800
      }
     },
     "output_type": "execute_result"
    }
   ],
   "source": [
    "#exemple Ici le cours de Accor Hotel en fonction du temps\n",
    "Image('Data/Image/Les cours de chaque enteprise du CAC40/ImageAC.PA.png', width=800)\n"
   ]
  },
  {
   "cell_type": "markdown",
   "metadata": {},
   "source": [
    "# Afficher toutes les regression linéaire "
   ]
  },
  {
   "cell_type": "code",
   "execution_count": 198,
   "metadata": {},
   "outputs": [
    {
     "data": {
      "image/png": "[encoded data removed]",
      "text/plain": [
       "<Figure size 432x288 with 1 Axes>"
      ]
     },
     "metadata": {},
     "output_type": "display_data"
    }
   ],
   "source": [
    "#essaie pour faire une lineaire regression depuis l'api \n",
    "import matplotlib.pyplot as plt\n",
    "import seaborn as sns; sns.set()\n",
    "import numpy as np\n",
    "from datetime import datetime\n",
    "import pandas as pd\n",
    "pd.core.common.is_list_like = pd.api.types.is_list_like\n",
    "from sklearn.linear_model import LinearRegression\n",
    "import pandas_datareader.data as web\n",
    "\n",
    "start = datetime(2017, 3, 1)\n",
    "end = datetime(2019, 3, 30)\n",
    "data_SP = web.DataReader('JPM', 'iex', start, end)\n",
    "\n",
    "dates = list(map(lambda x: datetime.strptime(x,\"%Y-%m-%d\"),list(data_SP.index)))\n",
    "days_since = list(map(lambda x: (x-start).days,dates))\n",
    "\n",
    "model = LinearRegression(fit_intercept=True)\n",
    "model.fit(np.array(days_since)[1:][:, np.newaxis],data_SP['close'].pct_change(1)[1:]) # <------------\n",
    "\n",
    "yfit = model.predict(np.array(days_since)[:, np.newaxis])\n",
    "\n",
    "plt.figure()\n",
    "plt.scatter(dates, yfit)\n",
    "plt.scatter(dates, data_SP['close'].pct_change(1))\n",
    "plt.xlabel('date')\n",
    "plt.ylabel('close')\n",
    "plt.show()"
   ]
  },
  {
   "cell_type": "code",
   "execution_count": 215,
   "metadata": {},
   "outputs": [],
   "source": [
    "#Engregistrer toutes les lineaire regression "
   ]
  },
  {
   "cell_type": "code",
   "execution_count": 237,
   "metadata": {},
   "outputs": [],
   "source": [
    "path2 = \"Data/Image/Regression lineaire des cours d'entreprise/\"\n",
    "def plot_LR(Entreprise):\n",
    "    X_ = dfE_C[Entreprise].values#valeur de toutes les entreprises\n",
    "    #On prend les valeur CAC 40\n",
    "    Y_ = dfC_C['^FCHI'].values\n",
    "    i = int(X_.shape[0]*0.7)\n",
    "    X_ = X_.reshape(-1,1)\n",
    "    Y_ = Y_.reshape(-1,1)\n",
    "    X_train = X_[:i]\n",
    "    Y_train = Y_[:i]\n",
    "    X_test = X_[i:]\n",
    "    Y_test = Y_[i:]\n",
    "    #On peut voir les config ici pour la variable X\n",
    "    X_.shape\n",
    "    lr = LinearRegression(normalize=True)\n",
    "    sc_X = StandardScaler()\n",
    "    sc_Y = StandardScaler()\n",
    "    X_std = sc_X.fit_transform(X_)\n",
    "    Y_std = sc_Y.fit_transform(Y_)\n",
    "    lr.fit(X_std, Y_std)\n",
    "    pred_std = lr.predict(X_std)\n",
    "    lr.score(X_std,Y_std)\n",
    "    pred = sc_Y.inverse_transform(pred_std)\n",
    "    plt.scatter(dfE_C[Entreprise].values, dfC_C['^FCHI'].values, c='green', edgecolor='white', s=200)\n",
    "    plt.plot(dfE_C[Entreprise].values, pred, color='red', lw=2) #lw l'epaisseur de la ligne rouge\n",
    "    plt.xlabel(Entreprise)\n",
    "    plt.ylabel('CAC 40')\n",
    "    plt.savefig(path2+Entreprise+'.png') \n",
    "    plt.show()"
   ]
  },
  {
   "cell_type": "code",
   "execution_count": 239,
   "metadata": {},
   "outputs": [],
   "source": [
    "# #lancer la fonction pour afficher et enregistrer les linéaire regression\n",
    "# for Entreprise in dfE_C.columns:\n",
    "#     plot_LR(Entreprise)"
   ]
  },
  {
   "cell_type": "code",
   "execution_count": 243,
   "metadata": {},
   "outputs": [
    {
     "data": {
      "image/png": "[encoded data removed]",
      "text/plain": [
       "<IPython.core.display.Image object>"
      ]
     },
     "execution_count": 243,
     "metadata": {
      "image/png": {
       "width": 400
      }
     },
     "output_type": "execute_result"
    }
   ],
   "source": [
    "#exemple Ici la regression linéaire de total \n",
    "Image(\"Data/Image/Regression lineaire des cours d'entreprise/FP.PA.png\", width=400)\n"
   ]
  },
  {
   "cell_type": "code",
   "execution_count": null,
   "metadata": {},
   "outputs": [],
   "source": []
  }
 ],
 "metadata": {
  "kernelspec": {
   "display_name": "Python 3",
   "language": "python",
   "name": "python3"
  },
  "language_info": {
   "codemirror_mode": {
    "name": "ipython",
    "version": 3
   },
   "file_extension": ".py",
   "mimetype": "text/x-python",
   "name": "python",
   "nbconvert_exporter": "python",
   "pygments_lexer": "ipython3",
   "version": "3.7.2"
  }
 },
 "nbformat": 4,
 "nbformat_minor": 2
}
